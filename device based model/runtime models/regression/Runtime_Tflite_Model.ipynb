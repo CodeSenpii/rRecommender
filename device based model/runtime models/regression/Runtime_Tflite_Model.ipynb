{
  "nbformat": 4,
  "nbformat_minor": 0,
  "metadata": {
    "colab": {
      "name": "Runtime Tflite Model.ipynb",
      "provenance": []
    },
    "kernelspec": {
      "name": "python3",
      "display_name": "Python 3"
    }
  },
  "cells": [
    {
      "cell_type": "markdown",
      "metadata": {
        "id": "nMVp5SSxFiAb",
        "colab_type": "text"
      },
      "source": [
        "#SetUp"
      ]
    },
    {
      "cell_type": "code",
      "metadata": {
        "id": "cN0E1ihPFUhM",
        "colab_type": "code",
        "colab": {}
      },
      "source": [
        "try:\n",
        "    %tensorflow_version 2.x\n",
        "except:\n",
        "    pass"
      ],
      "execution_count": 0,
      "outputs": []
    },
    {
      "cell_type": "code",
      "metadata": {
        "id": "cLYeoEgrFlMx",
        "colab_type": "code",
        "outputId": "0233c482-61a0-4d3d-c5cd-3bb74443e3e0",
        "colab": {
          "base_uri": "https://localhost:8080/",
          "height": 34
        }
      },
      "source": [
        "import pathlib\n",
        "import numpy as np\n",
        "import matplotlib.pyplot as plt\n",
        "\n",
        "import tensorflow as tf\n",
        "\n",
        "print('\\u2022 Using TensorFlow Version:', tf.__version__)"
      ],
      "execution_count": 7,
      "outputs": [
        {
          "output_type": "stream",
          "text": [
            "• Using TensorFlow Version: 2.2.0\n"
          ],
          "name": "stdout"
        }
      ]
    },
    {
      "cell_type": "markdown",
      "metadata": {
        "id": "8DG4BNNJFrUf",
        "colab_type": "text"
      },
      "source": [
        "#Create a Basic Model of the Form y = mx + c"
      ]
    },
    {
      "cell_type": "code",
      "metadata": {
        "id": "iiEb1-_5Focb",
        "colab_type": "code",
        "outputId": "709f05bb-23fa-4f50-ad57-9600586bb1f9",
        "colab": {
          "base_uri": "https://localhost:8080/",
          "height": 1000
        }
      },
      "source": [
        "# Create a simple Keras model.\n",
        "x = [-1, 0, 1, 2, 3, 4]\n",
        "y = [-3, -1, 1, 3, 5, 7]\n",
        "\n",
        "model = tf.keras.models.Sequential([\n",
        "        tf.keras.layers.Dense(units=1, input_shape=[1])\n",
        "])\n",
        "\n",
        "model.compile(optimizer='sgd',\n",
        "              loss='mean_squared_error')\n",
        "\n",
        "model.fit(x, y, epochs=200)"
      ],
      "execution_count": 8,
      "outputs": [
        {
          "output_type": "stream",
          "text": [
            "Epoch 1/200\n",
            "1/1 [==============================] - 0s 2ms/step - loss: 32.3618\n",
            "Epoch 2/200\n",
            "1/1 [==============================] - 0s 1ms/step - loss: 25.7838\n",
            "Epoch 3/200\n",
            "1/1 [==============================] - 0s 990us/step - loss: 20.6020\n",
            "Epoch 4/200\n",
            "1/1 [==============================] - 0s 1ms/step - loss: 16.5186\n",
            "Epoch 5/200\n",
            "1/1 [==============================] - 0s 4ms/step - loss: 13.2997\n",
            "Epoch 6/200\n",
            "1/1 [==============================] - 0s 969us/step - loss: 10.7610\n",
            "Epoch 7/200\n",
            "1/1 [==============================] - 0s 928us/step - loss: 8.7575\n",
            "Epoch 8/200\n",
            "1/1 [==============================] - 0s 1ms/step - loss: 7.1753\n",
            "Epoch 9/200\n",
            "1/1 [==============================] - 0s 987us/step - loss: 5.9246\n",
            "Epoch 10/200\n",
            "1/1 [==============================] - 0s 1ms/step - loss: 4.9349\n",
            "Epoch 11/200\n",
            "1/1 [==============================] - 0s 2ms/step - loss: 4.1506\n",
            "Epoch 12/200\n",
            "1/1 [==============================] - 0s 989us/step - loss: 3.5281\n",
            "Epoch 13/200\n",
            "1/1 [==============================] - 0s 1ms/step - loss: 3.0329\n",
            "Epoch 14/200\n",
            "1/1 [==============================] - 0s 1ms/step - loss: 2.6380\n",
            "Epoch 15/200\n",
            "1/1 [==============================] - 0s 1ms/step - loss: 2.3222\n",
            "Epoch 16/200\n",
            "1/1 [==============================] - 0s 1ms/step - loss: 2.0687\n",
            "Epoch 17/200\n",
            "1/1 [==============================] - 0s 1ms/step - loss: 1.8642\n",
            "Epoch 18/200\n",
            "1/1 [==============================] - 0s 1ms/step - loss: 1.6985\n",
            "Epoch 19/200\n",
            "1/1 [==============================] - 0s 998us/step - loss: 1.5634\n",
            "Epoch 20/200\n",
            "1/1 [==============================] - 0s 1ms/step - loss: 1.4524\n",
            "Epoch 21/200\n",
            "1/1 [==============================] - 0s 1ms/step - loss: 1.3605\n",
            "Epoch 22/200\n",
            "1/1 [==============================] - 0s 2ms/step - loss: 1.2837\n",
            "Epoch 23/200\n",
            "1/1 [==============================] - 0s 2ms/step - loss: 1.2190\n",
            "Epoch 24/200\n",
            "1/1 [==============================] - 0s 938us/step - loss: 1.1637\n",
            "Epoch 25/200\n",
            "1/1 [==============================] - 0s 996us/step - loss: 1.1160\n",
            "Epoch 26/200\n",
            "1/1 [==============================] - 0s 943us/step - loss: 1.0744\n",
            "Epoch 27/200\n",
            "1/1 [==============================] - 0s 1ms/step - loss: 1.0376\n",
            "Epoch 28/200\n",
            "1/1 [==============================] - 0s 1ms/step - loss: 1.0047\n",
            "Epoch 29/200\n",
            "1/1 [==============================] - 0s 957us/step - loss: 0.9750\n",
            "Epoch 30/200\n",
            "1/1 [==============================] - 0s 952us/step - loss: 0.9478\n",
            "Epoch 31/200\n",
            "1/1 [==============================] - 0s 1ms/step - loss: 0.9227\n",
            "Epoch 32/200\n",
            "1/1 [==============================] - 0s 1ms/step - loss: 0.8993\n",
            "Epoch 33/200\n",
            "1/1 [==============================] - 0s 2ms/step - loss: 0.8773\n",
            "Epoch 34/200\n",
            "1/1 [==============================] - 0s 1ms/step - loss: 0.8566\n",
            "Epoch 35/200\n",
            "1/1 [==============================] - 0s 1ms/step - loss: 0.8368\n",
            "Epoch 36/200\n",
            "1/1 [==============================] - 0s 1ms/step - loss: 0.8179\n",
            "Epoch 37/200\n",
            "1/1 [==============================] - 0s 1ms/step - loss: 0.7998\n",
            "Epoch 38/200\n",
            "1/1 [==============================] - 0s 884us/step - loss: 0.7823\n",
            "Epoch 39/200\n",
            "1/1 [==============================] - 0s 1ms/step - loss: 0.7654\n",
            "Epoch 40/200\n",
            "1/1 [==============================] - 0s 992us/step - loss: 0.7490\n",
            "Epoch 41/200\n",
            "1/1 [==============================] - 0s 1ms/step - loss: 0.7331\n",
            "Epoch 42/200\n",
            "1/1 [==============================] - 0s 1ms/step - loss: 0.7177\n",
            "Epoch 43/200\n",
            "1/1 [==============================] - 0s 2ms/step - loss: 0.7026\n",
            "Epoch 44/200\n",
            "1/1 [==============================] - 0s 963us/step - loss: 0.6879\n",
            "Epoch 45/200\n",
            "1/1 [==============================] - 0s 994us/step - loss: 0.6736\n",
            "Epoch 46/200\n",
            "1/1 [==============================] - 0s 1ms/step - loss: 0.6596\n",
            "Epoch 47/200\n",
            "1/1 [==============================] - 0s 3ms/step - loss: 0.6460\n",
            "Epoch 48/200\n",
            "1/1 [==============================] - 0s 2ms/step - loss: 0.6326\n",
            "Epoch 49/200\n",
            "1/1 [==============================] - 0s 1ms/step - loss: 0.6195\n",
            "Epoch 50/200\n",
            "1/1 [==============================] - 0s 1ms/step - loss: 0.6067\n",
            "Epoch 51/200\n",
            "1/1 [==============================] - 0s 1ms/step - loss: 0.5942\n",
            "Epoch 52/200\n",
            "1/1 [==============================] - 0s 1ms/step - loss: 0.5820\n",
            "Epoch 53/200\n",
            "1/1 [==============================] - 0s 1ms/step - loss: 0.5700\n",
            "Epoch 54/200\n",
            "1/1 [==============================] - 0s 1ms/step - loss: 0.5583\n",
            "Epoch 55/200\n",
            "1/1 [==============================] - 0s 930us/step - loss: 0.5468\n",
            "Epoch 56/200\n",
            "1/1 [==============================] - 0s 971us/step - loss: 0.5355\n",
            "Epoch 57/200\n",
            "1/1 [==============================] - 0s 1ms/step - loss: 0.5245\n",
            "Epoch 58/200\n",
            "1/1 [==============================] - 0s 1ms/step - loss: 0.5137\n",
            "Epoch 59/200\n",
            "1/1 [==============================] - 0s 962us/step - loss: 0.5032\n",
            "Epoch 60/200\n",
            "1/1 [==============================] - 0s 1ms/step - loss: 0.4928\n",
            "Epoch 61/200\n",
            "1/1 [==============================] - 0s 1ms/step - loss: 0.4827\n",
            "Epoch 62/200\n",
            "1/1 [==============================] - 0s 1ms/step - loss: 0.4728\n",
            "Epoch 63/200\n",
            "1/1 [==============================] - 0s 1ms/step - loss: 0.4631\n",
            "Epoch 64/200\n",
            "1/1 [==============================] - 0s 2ms/step - loss: 0.4536\n",
            "Epoch 65/200\n",
            "1/1 [==============================] - 0s 1ms/step - loss: 0.4443\n",
            "Epoch 66/200\n",
            "1/1 [==============================] - 0s 1ms/step - loss: 0.4351\n",
            "Epoch 67/200\n",
            "1/1 [==============================] - 0s 1ms/step - loss: 0.4262\n",
            "Epoch 68/200\n",
            "1/1 [==============================] - 0s 1ms/step - loss: 0.4174\n",
            "Epoch 69/200\n",
            "1/1 [==============================] - 0s 909us/step - loss: 0.4089\n",
            "Epoch 70/200\n",
            "1/1 [==============================] - 0s 1ms/step - loss: 0.4005\n",
            "Epoch 71/200\n",
            "1/1 [==============================] - 0s 1ms/step - loss: 0.3922\n",
            "Epoch 72/200\n",
            "1/1 [==============================] - 0s 1ms/step - loss: 0.3842\n",
            "Epoch 73/200\n",
            "1/1 [==============================] - 0s 874us/step - loss: 0.3763\n",
            "Epoch 74/200\n",
            "1/1 [==============================] - 0s 884us/step - loss: 0.3686\n",
            "Epoch 75/200\n",
            "1/1 [==============================] - 0s 929us/step - loss: 0.3610\n",
            "Epoch 76/200\n",
            "1/1 [==============================] - 0s 985us/step - loss: 0.3536\n",
            "Epoch 77/200\n",
            "1/1 [==============================] - 0s 1ms/step - loss: 0.3463\n",
            "Epoch 78/200\n",
            "1/1 [==============================] - 0s 1ms/step - loss: 0.3392\n",
            "Epoch 79/200\n",
            "1/1 [==============================] - 0s 2ms/step - loss: 0.3322\n",
            "Epoch 80/200\n",
            "1/1 [==============================] - 0s 1ms/step - loss: 0.3254\n",
            "Epoch 81/200\n",
            "1/1 [==============================] - 0s 900us/step - loss: 0.3187\n",
            "Epoch 82/200\n",
            "1/1 [==============================] - 0s 1ms/step - loss: 0.3122\n",
            "Epoch 83/200\n",
            "1/1 [==============================] - 0s 1ms/step - loss: 0.3058\n",
            "Epoch 84/200\n",
            "1/1 [==============================] - 0s 1ms/step - loss: 0.2995\n",
            "Epoch 85/200\n",
            "1/1 [==============================] - 0s 983us/step - loss: 0.2933\n",
            "Epoch 86/200\n",
            "1/1 [==============================] - 0s 944us/step - loss: 0.2873\n",
            "Epoch 87/200\n",
            "1/1 [==============================] - 0s 2ms/step - loss: 0.2814\n",
            "Epoch 88/200\n",
            "1/1 [==============================] - 0s 1ms/step - loss: 0.2756\n",
            "Epoch 89/200\n",
            "1/1 [==============================] - 0s 1ms/step - loss: 0.2700\n",
            "Epoch 90/200\n",
            "1/1 [==============================] - 0s 1ms/step - loss: 0.2644\n",
            "Epoch 91/200\n",
            "1/1 [==============================] - 0s 1ms/step - loss: 0.2590\n",
            "Epoch 92/200\n",
            "1/1 [==============================] - 0s 1ms/step - loss: 0.2537\n",
            "Epoch 93/200\n",
            "1/1 [==============================] - 0s 872us/step - loss: 0.2485\n",
            "Epoch 94/200\n",
            "1/1 [==============================] - 0s 1ms/step - loss: 0.2433\n",
            "Epoch 95/200\n",
            "1/1 [==============================] - 0s 1ms/step - loss: 0.2384\n",
            "Epoch 96/200\n",
            "1/1 [==============================] - 0s 2ms/step - loss: 0.2335\n",
            "Epoch 97/200\n",
            "1/1 [==============================] - 0s 2ms/step - loss: 0.2287\n",
            "Epoch 98/200\n",
            "1/1 [==============================] - 0s 2ms/step - loss: 0.2240\n",
            "Epoch 99/200\n",
            "1/1 [==============================] - 0s 1ms/step - loss: 0.2194\n",
            "Epoch 100/200\n",
            "1/1 [==============================] - 0s 4ms/step - loss: 0.2149\n",
            "Epoch 101/200\n",
            "1/1 [==============================] - 0s 835us/step - loss: 0.2104\n",
            "Epoch 102/200\n",
            "1/1 [==============================] - 0s 904us/step - loss: 0.2061\n",
            "Epoch 103/200\n",
            "1/1 [==============================] - 0s 962us/step - loss: 0.2019\n",
            "Epoch 104/200\n",
            "1/1 [==============================] - 0s 853us/step - loss: 0.1977\n",
            "Epoch 105/200\n",
            "1/1 [==============================] - 0s 951us/step - loss: 0.1937\n",
            "Epoch 106/200\n",
            "1/1 [==============================] - 0s 914us/step - loss: 0.1897\n",
            "Epoch 107/200\n",
            "1/1 [==============================] - 0s 2ms/step - loss: 0.1858\n",
            "Epoch 108/200\n",
            "1/1 [==============================] - 0s 933us/step - loss: 0.1820\n",
            "Epoch 109/200\n",
            "1/1 [==============================] - 0s 968us/step - loss: 0.1782\n",
            "Epoch 110/200\n",
            "1/1 [==============================] - 0s 1ms/step - loss: 0.1746\n",
            "Epoch 111/200\n",
            "1/1 [==============================] - 0s 996us/step - loss: 0.1710\n",
            "Epoch 112/200\n",
            "1/1 [==============================] - 0s 877us/step - loss: 0.1675\n",
            "Epoch 113/200\n",
            "1/1 [==============================] - 0s 882us/step - loss: 0.1640\n",
            "Epoch 114/200\n",
            "1/1 [==============================] - 0s 940us/step - loss: 0.1607\n",
            "Epoch 115/200\n",
            "1/1 [==============================] - 0s 1ms/step - loss: 0.1574\n",
            "Epoch 116/200\n",
            "1/1 [==============================] - 0s 992us/step - loss: 0.1541\n",
            "Epoch 117/200\n",
            "1/1 [==============================] - 0s 910us/step - loss: 0.1510\n",
            "Epoch 118/200\n",
            "1/1 [==============================] - 0s 886us/step - loss: 0.1479\n",
            "Epoch 119/200\n",
            "1/1 [==============================] - 0s 2ms/step - loss: 0.1448\n",
            "Epoch 120/200\n",
            "1/1 [==============================] - 0s 1ms/step - loss: 0.1419\n",
            "Epoch 121/200\n",
            "1/1 [==============================] - 0s 1ms/step - loss: 0.1390\n",
            "Epoch 122/200\n",
            "1/1 [==============================] - 0s 940us/step - loss: 0.1361\n",
            "Epoch 123/200\n",
            "1/1 [==============================] - 0s 1ms/step - loss: 0.1333\n",
            "Epoch 124/200\n",
            "1/1 [==============================] - 0s 2ms/step - loss: 0.1306\n",
            "Epoch 125/200\n",
            "1/1 [==============================] - 0s 2ms/step - loss: 0.1279\n",
            "Epoch 126/200\n",
            "1/1 [==============================] - 0s 1ms/step - loss: 0.1253\n",
            "Epoch 127/200\n",
            "1/1 [==============================] - 0s 1ms/step - loss: 0.1227\n",
            "Epoch 128/200\n",
            "1/1 [==============================] - 0s 979us/step - loss: 0.1202\n",
            "Epoch 129/200\n",
            "1/1 [==============================] - 0s 971us/step - loss: 0.1177\n",
            "Epoch 130/200\n",
            "1/1 [==============================] - 0s 1ms/step - loss: 0.1153\n",
            "Epoch 131/200\n",
            "1/1 [==============================] - 0s 1ms/step - loss: 0.1129\n",
            "Epoch 132/200\n",
            "1/1 [==============================] - 0s 993us/step - loss: 0.1106\n",
            "Epoch 133/200\n",
            "1/1 [==============================] - 0s 1ms/step - loss: 0.1083\n",
            "Epoch 134/200\n",
            "1/1 [==============================] - 0s 928us/step - loss: 0.1061\n",
            "Epoch 135/200\n",
            "1/1 [==============================] - 0s 1ms/step - loss: 0.1039\n",
            "Epoch 136/200\n",
            "1/1 [==============================] - 0s 3ms/step - loss: 0.1018\n",
            "Epoch 137/200\n",
            "1/1 [==============================] - 0s 797us/step - loss: 0.0997\n",
            "Epoch 138/200\n",
            "1/1 [==============================] - 0s 2ms/step - loss: 0.0976\n",
            "Epoch 139/200\n",
            "1/1 [==============================] - 0s 1ms/step - loss: 0.0956\n",
            "Epoch 140/200\n",
            "1/1 [==============================] - 0s 5ms/step - loss: 0.0937\n",
            "Epoch 141/200\n",
            "1/1 [==============================] - 0s 2ms/step - loss: 0.0917\n",
            "Epoch 142/200\n",
            "1/1 [==============================] - 0s 866us/step - loss: 0.0899\n",
            "Epoch 143/200\n",
            "1/1 [==============================] - 0s 886us/step - loss: 0.0880\n",
            "Epoch 144/200\n",
            "1/1 [==============================] - 0s 897us/step - loss: 0.0862\n",
            "Epoch 145/200\n",
            "1/1 [==============================] - 0s 1ms/step - loss: 0.0844\n",
            "Epoch 146/200\n",
            "1/1 [==============================] - 0s 3ms/step - loss: 0.0827\n",
            "Epoch 147/200\n",
            "1/1 [==============================] - 0s 1ms/step - loss: 0.0810\n",
            "Epoch 148/200\n",
            "1/1 [==============================] - 0s 959us/step - loss: 0.0793\n",
            "Epoch 149/200\n",
            "1/1 [==============================] - 0s 984us/step - loss: 0.0777\n",
            "Epoch 150/200\n",
            "1/1 [==============================] - 0s 1ms/step - loss: 0.0761\n",
            "Epoch 151/200\n",
            "1/1 [==============================] - 0s 1ms/step - loss: 0.0746\n",
            "Epoch 152/200\n",
            "1/1 [==============================] - 0s 959us/step - loss: 0.0730\n",
            "Epoch 153/200\n",
            "1/1 [==============================] - 0s 1ms/step - loss: 0.0715\n",
            "Epoch 154/200\n",
            "1/1 [==============================] - 0s 1ms/step - loss: 0.0701\n",
            "Epoch 155/200\n",
            "1/1 [==============================] - 0s 865us/step - loss: 0.0686\n",
            "Epoch 156/200\n",
            "1/1 [==============================] - 0s 1ms/step - loss: 0.0672\n",
            "Epoch 157/200\n",
            "1/1 [==============================] - 0s 1ms/step - loss: 0.0658\n",
            "Epoch 158/200\n",
            "1/1 [==============================] - 0s 1ms/step - loss: 0.0645\n",
            "Epoch 159/200\n",
            "1/1 [==============================] - 0s 1ms/step - loss: 0.0631\n",
            "Epoch 160/200\n",
            "1/1 [==============================] - 0s 1ms/step - loss: 0.0618\n",
            "Epoch 161/200\n",
            "1/1 [==============================] - 0s 1ms/step - loss: 0.0606\n",
            "Epoch 162/200\n",
            "1/1 [==============================] - 0s 1ms/step - loss: 0.0593\n",
            "Epoch 163/200\n",
            "1/1 [==============================] - 0s 938us/step - loss: 0.0581\n",
            "Epoch 164/200\n",
            "1/1 [==============================] - 0s 1ms/step - loss: 0.0569\n",
            "Epoch 165/200\n",
            "1/1 [==============================] - 0s 1ms/step - loss: 0.0558\n",
            "Epoch 166/200\n",
            "1/1 [==============================] - 0s 1ms/step - loss: 0.0546\n",
            "Epoch 167/200\n",
            "1/1 [==============================] - 0s 841us/step - loss: 0.0535\n",
            "Epoch 168/200\n",
            "1/1 [==============================] - 0s 882us/step - loss: 0.0524\n",
            "Epoch 169/200\n",
            "1/1 [==============================] - 0s 1ms/step - loss: 0.0513\n",
            "Epoch 170/200\n",
            "1/1 [==============================] - 0s 3ms/step - loss: 0.0503\n",
            "Epoch 171/200\n",
            "1/1 [==============================] - 0s 1ms/step - loss: 0.0492\n",
            "Epoch 172/200\n",
            "1/1 [==============================] - 0s 2ms/step - loss: 0.0482\n",
            "Epoch 173/200\n",
            "1/1 [==============================] - 0s 1ms/step - loss: 0.0472\n",
            "Epoch 174/200\n",
            "1/1 [==============================] - 0s 1ms/step - loss: 0.0463\n",
            "Epoch 175/200\n",
            "1/1 [==============================] - 0s 2ms/step - loss: 0.0453\n",
            "Epoch 176/200\n",
            "1/1 [==============================] - 0s 933us/step - loss: 0.0444\n",
            "Epoch 177/200\n",
            "1/1 [==============================] - 0s 931us/step - loss: 0.0435\n",
            "Epoch 178/200\n",
            "1/1 [==============================] - 0s 1ms/step - loss: 0.0426\n",
            "Epoch 179/200\n",
            "1/1 [==============================] - 0s 1ms/step - loss: 0.0417\n",
            "Epoch 180/200\n",
            "1/1 [==============================] - 0s 908us/step - loss: 0.0408\n",
            "Epoch 181/200\n",
            "1/1 [==============================] - 0s 1ms/step - loss: 0.0400\n",
            "Epoch 182/200\n",
            "1/1 [==============================] - 0s 1ms/step - loss: 0.0392\n",
            "Epoch 183/200\n",
            "1/1 [==============================] - 0s 1ms/step - loss: 0.0384\n",
            "Epoch 184/200\n",
            "1/1 [==============================] - 0s 836us/step - loss: 0.0376\n",
            "Epoch 185/200\n",
            "1/1 [==============================] - 0s 1ms/step - loss: 0.0368\n",
            "Epoch 186/200\n",
            "1/1 [==============================] - 0s 1ms/step - loss: 0.0361\n",
            "Epoch 187/200\n",
            "1/1 [==============================] - 0s 930us/step - loss: 0.0353\n",
            "Epoch 188/200\n",
            "1/1 [==============================] - 0s 982us/step - loss: 0.0346\n",
            "Epoch 189/200\n",
            "1/1 [==============================] - 0s 1ms/step - loss: 0.0339\n",
            "Epoch 190/200\n",
            "1/1 [==============================] - 0s 1ms/step - loss: 0.0332\n",
            "Epoch 191/200\n",
            "1/1 [==============================] - 0s 1ms/step - loss: 0.0325\n",
            "Epoch 192/200\n",
            "1/1 [==============================] - 0s 3ms/step - loss: 0.0318\n",
            "Epoch 193/200\n",
            "1/1 [==============================] - 0s 911us/step - loss: 0.0312\n",
            "Epoch 194/200\n",
            "1/1 [==============================] - 0s 904us/step - loss: 0.0305\n",
            "Epoch 195/200\n",
            "1/1 [==============================] - 0s 840us/step - loss: 0.0299\n",
            "Epoch 196/200\n",
            "1/1 [==============================] - 0s 908us/step - loss: 0.0293\n",
            "Epoch 197/200\n",
            "1/1 [==============================] - 0s 2ms/step - loss: 0.0287\n",
            "Epoch 198/200\n",
            "1/1 [==============================] - 0s 1ms/step - loss: 0.0281\n",
            "Epoch 199/200\n",
            "1/1 [==============================] - 0s 960us/step - loss: 0.0275\n",
            "Epoch 200/200\n",
            "1/1 [==============================] - 0s 1ms/step - loss: 0.0270\n"
          ],
          "name": "stdout"
        },
        {
          "output_type": "execute_result",
          "data": {
            "text/plain": [
              "<tensorflow.python.keras.callbacks.History at 0x7f31b81fada0>"
            ]
          },
          "metadata": {
            "tags": []
          },
          "execution_count": 8
        }
      ]
    },
    {
      "cell_type": "markdown",
      "metadata": {
        "id": "8bAFQzMfF1A7",
        "colab_type": "text"
      },
      "source": [
        "#Generate a SavedModel"
      ]
    },
    {
      "cell_type": "code",
      "metadata": {
        "id": "Szng1lmjFvrD",
        "colab_type": "code",
        "outputId": "cb5071ab-77cd-4645-b20e-8d5e69108fa0",
        "colab": {
          "base_uri": "https://localhost:8080/",
          "height": 51
        }
      },
      "source": [
        "export_dir = 'saved_model/1'\n",
        "tf.saved_model.save(model, export_dir)"
      ],
      "execution_count": 9,
      "outputs": [
        {
          "output_type": "stream",
          "text": [
            "INFO:tensorflow:Assets written to: saved_model/1/assets\n"
          ],
          "name": "stdout"
        },
        {
          "output_type": "stream",
          "text": [
            "INFO:tensorflow:Assets written to: saved_model/1/assets\n"
          ],
          "name": "stderr"
        }
      ]
    },
    {
      "cell_type": "markdown",
      "metadata": {
        "id": "6Br6qkiFF7m1",
        "colab_type": "text"
      },
      "source": [
        "#Convert the SavedModel to TFLite"
      ]
    },
    {
      "cell_type": "code",
      "metadata": {
        "id": "j0z-Ker1F7Px",
        "colab_type": "code",
        "colab": {}
      },
      "source": [
        "\n",
        "# Convert the model.\n",
        "converter = tf.lite.TFLiteConverter.from_saved_model(export_dir)\n",
        "tflite_model = converter.convert()"
      ],
      "execution_count": 0,
      "outputs": []
    },
    {
      "cell_type": "code",
      "metadata": {
        "id": "9hAjEQegHysr",
        "colab_type": "code",
        "colab": {
          "base_uri": "https://localhost:8080/",
          "height": 34
        },
        "outputId": "8ff45a3c-4d26-4e94-9c30-2d3f0c7c8de3"
      },
      "source": [
        "tflite_model_file = pathlib.Path('model.tflite')\n",
        "tflite_model_file.write_bytes(tflite_model)"
      ],
      "execution_count": 16,
      "outputs": [
        {
          "output_type": "execute_result",
          "data": {
            "text/plain": [
              "652"
            ]
          },
          "metadata": {
            "tags": []
          },
          "execution_count": 16
        }
      ]
    },
    {
      "cell_type": "markdown",
      "metadata": {
        "id": "uudpUbPnHRoR",
        "colab_type": "text"
      },
      "source": [
        "#Initialize the TFLite Interpreter To Try It Out"
      ]
    },
    {
      "cell_type": "code",
      "metadata": {
        "id": "RgMnu0R6F3YD",
        "colab_type": "code",
        "colab": {}
      },
      "source": [
        "\n",
        "# Load TFLite model and allocate tensors.\n",
        "interpreter = tf.lite.Interpreter(model_content=tflite_model)\n",
        "interpreter.allocate_tensors()\n",
        "\n",
        "# Get input and output tensors.\n",
        "input_details = interpreter.get_input_details()\n",
        "output_details = interpreter.get_output_details()"
      ],
      "execution_count": 0,
      "outputs": []
    },
    {
      "cell_type": "code",
      "metadata": {
        "id": "a-4zKIkRHYAB",
        "colab_type": "code",
        "colab": {}
      },
      "source": [
        "# Test the TensorFlow Lite model on random input data.\n",
        "input_shape = input_details[0]['shape']\n",
        "inputs, outputs = [], []\n",
        "for _ in range(100):\n",
        "    input_data = np.array(np.random.random_sample(input_shape), dtype=np.float32)\n",
        "    interpreter.set_tensor(input_details[0]['index'], input_data)\n",
        "    \n",
        "    interpreter.invoke()\n",
        "    tflite_results = interpreter.get_tensor(output_details[0]['index'])\n",
        "    \n",
        "    # Test the TensorFlow model on random input data.\n",
        "    tf_results = model(tf.constant(input_data))\n",
        "    output_data = np.array(tf_results)\n",
        "    \n",
        "    inputs.append(input_data[0][0])\n",
        "    outputs.append(output_data[0][0])\n"
      ],
      "execution_count": 0,
      "outputs": []
    },
    {
      "cell_type": "code",
      "metadata": {
        "id": "91AqRrCjHcB4",
        "colab_type": "code",
        "colab": {
          "base_uri": "https://localhost:8080/",
          "height": 265
        },
        "outputId": "9e6a76ad-5830-49c0-c0d4-3642a3dff27f"
      },
      "source": [
        "%matplotlib inline\n",
        "\n",
        "plt.plot(inputs, outputs, 'r')\n",
        "plt.show()"
      ],
      "execution_count": 13,
      "outputs": [
        {
          "output_type": "display_data",
          "data": {
            "image/png": "[encoded data removed]",
            "text/plain": [
              "<Figure size 432x288 with 1 Axes>"
            ]
          },
          "metadata": {
            "tags": [],
            "needs_background": "light"
          }
        }
      ]
    },
    {
      "cell_type": "markdown",
      "metadata": {
        "id": "vYL0iRCPHilt",
        "colab_type": "text"
      },
      "source": [
        "#Download Model"
      ]
    },
    {
      "cell_type": "code",
      "metadata": {
        "id": "EV_KGWvAHeXh",
        "colab_type": "code",
        "colab": {}
      },
      "source": [
        "\n",
        "try:\n",
        "    from google.colab import files\n",
        "    files.download(tflite_model_file)\n",
        "except:\n",
        "    pass"
      ],
      "execution_count": 0,
      "outputs": []
    },
    {
      "cell_type": "code",
      "metadata": {
        "id": "gxJRpwz_Hn1b",
        "colab_type": "code",
        "colab": {}
      },
      "source": [
        ""
      ],
      "execution_count": 0,
      "outputs": []
    }
  ]
}