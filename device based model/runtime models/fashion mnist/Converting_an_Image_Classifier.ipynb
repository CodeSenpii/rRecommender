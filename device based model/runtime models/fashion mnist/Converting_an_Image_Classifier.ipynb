{
  "nbformat": 4,
  "nbformat_minor": 0,
  "metadata": {
    "colab": {
      "name": "Converting an Image Classifier.ipynb",
      "provenance": [],
      "toc_visible": true
    },
    "kernelspec": {
      "name": "python3",
      "display_name": "Python 3"
    }
  },
  "cells": [
    {
      "cell_type": "markdown",
      "metadata": {
        "id": "EzqpnNyD7IkU",
        "colab_type": "text"
      },
      "source": [
        "#Fashion Mnist tf.converter()\n",
        "\n",
        "The goal of this notebook is very clear\n",
        "\n",
        "\n",
        "*   training a model using convlution neural net\n",
        "*   convert the trained model to use in device based system\n",
        "\n",
        "If you are not looking for any of the above feel free to quit.\n",
        "\n"
      ]
    },
    {
      "cell_type": "markdown",
      "metadata": {
        "id": "i_wBIqbf7slk",
        "colab_type": "text"
      },
      "source": [
        "This notebook uses the **Fashion MNIST** dataset which contains 70,000 grayscale images in 10 categories. The images show individual articles of clothing at low resolution (28 by 28 pixels), as seen here:"
      ]
    },
    {
      "cell_type": "markdown",
      "metadata": {
        "id": "XXOyvpiT72ux",
        "colab_type": "text"
      },
      "source": [
        "![mnist](https://tensorflow.org/images/fashion-mnist-sprite.png)"
      ]
    },
    {
      "cell_type": "markdown",
      "metadata": {
        "id": "8w4l4XwE8AdU",
        "colab_type": "text"
      },
      "source": [
        "#SetUp"
      ]
    },
    {
      "cell_type": "code",
      "metadata": {
        "id": "RN8TkMpQ7IIL",
        "colab_type": "code",
        "outputId": "1d6d7148-ca46-43be-b676-9bdd7257a645",
        "colab": {
          "base_uri": "https://localhost:8080/",
          "height": 122
        }
      },
      "source": [
        "# TensorFlow\n",
        "import tensorflow as tf\n",
        "\n",
        "# TensorFlow Datsets\n",
        "import tensorflow_datasets as tfds\n",
        "tfds.disable_progress_bar()\n",
        "\n",
        "# Helper Libraries\n",
        "import numpy as np\n",
        "import matplotlib.pyplot as plt\n",
        "import pathlib\n",
        "\n",
        "from os import getcwd\n",
        "\n",
        "print('\\u2022 Using TensorFlow Version:', tf.__version__)\n",
        "print('\\u2022 GPU Device Found.' if tf.test.is_gpu_available() else '\\u2022 GPU Device Not Found. Running on CPU')"
      ],
      "execution_count": 0,
      "outputs": [
        {
          "output_type": "stream",
          "text": [
            "• Using TensorFlow Version: 2.2.0\n",
            "WARNING:tensorflow:From <ipython-input-1-d6bb89964d10>:16: is_gpu_available (from tensorflow.python.framework.test_util) is deprecated and will be removed in a future version.\n",
            "Instructions for updating:\n",
            "Use `tf.config.list_physical_devices('GPU')` instead.\n",
            "• GPU Device Not Found. Running on CPU\n"
          ],
          "name": "stdout"
        }
      ]
    },
    {
      "cell_type": "markdown",
      "metadata": {
        "id": "9NvIDXlB9PUF",
        "colab_type": "text"
      },
      "source": [
        "#Download Fashion Mnist Dataset\n",
        "We will use tensorflow dataset"
      ]
    },
    {
      "cell_type": "code",
      "metadata": {
        "id": "tJGY3dfn2iVQ",
        "colab_type": "code",
        "colab": {}
      },
      "source": [
        "splits = tfds.Split.ALL.subsplit(weighted=(80,10,10))   #define train , validation, test portion\n",
        "\n",
        "filePath = f\"/tmp2/\"\n",
        "splits, info = tfds.load('fashion_mnist', with_info=True, as_supervised=True, split=['train[:80%]','train[80%:90%]','train[90%:100%]'], data_dir=filePath)\n",
        "(train_examples, validation_examples, test_examples) = splits\n",
        "\n",
        "num_examples = info.splits['train'].num_examples\n",
        "num_classes = info.features['label'].num_classes"
      ],
      "execution_count": 0,
      "outputs": []
    },
    {
      "cell_type": "code",
      "metadata": {
        "id": "-Xzthhc-9ziv",
        "colab_type": "code",
        "colab": {}
      },
      "source": [
        "class_names = ['T-shirt_top', 'Trouser', 'Pullover', 'Dress', 'Coat',\n",
        "               'Sandal', 'Shirt', 'Sneaker', 'Bag', 'Ankle boot']"
      ],
      "execution_count": 0,
      "outputs": []
    },
    {
      "cell_type": "code",
      "metadata": {
        "id": "v1XwTehS-1fl",
        "colab_type": "code",
        "colab": {}
      },
      "source": [
        "# Create a labels.txt file with the class names\n",
        "with open('labels.txt', 'w') as f:\n",
        "    f.write('\\n'.join(class_names))"
      ],
      "execution_count": 0,
      "outputs": []
    },
    {
      "cell_type": "code",
      "metadata": {
        "id": "JSx_1xrx_9nE",
        "colab_type": "code",
        "colab": {}
      },
      "source": [
        "# The images in the dataset are 28 by 28 pixels.\n",
        "IMG_SIZE = 28"
      ],
      "execution_count": 0,
      "outputs": []
    },
    {
      "cell_type": "markdown",
      "metadata": {
        "id": "hJiJK9qYACvC",
        "colab_type": "text"
      },
      "source": [
        "#Preprocessing Data"
      ]
    },
    {
      "cell_type": "markdown",
      "metadata": {
        "id": "Wi8C7WFdAGuw",
        "colab_type": "text"
      },
      "source": [
        "#Normalized Data\n"
      ]
    },
    {
      "cell_type": "code",
      "metadata": {
        "id": "g_XM9Dsj__gK",
        "colab_type": "code",
        "colab": {}
      },
      "source": [
        "\n",
        "def format_example(image, label):\n",
        "    # Cast image to float32\n",
        "    image = tf.image.convert_image_dtype(\n",
        "    image, dtype=\"float32\", saturate=False, name=None)\n",
        "        \n",
        "    # Normalize the image in the range [0, 1]\n",
        "    image = tf.image.per_image_standardization(image)\n",
        "    \n",
        "    return image, label"
      ],
      "execution_count": 0,
      "outputs": []
    },
    {
      "cell_type": "code",
      "metadata": {
        "id": "9f1c_-x_AJri",
        "colab_type": "code",
        "colab": {}
      },
      "source": [
        "# Specify the batch size\n",
        "BATCH_SIZE = 256"
      ],
      "execution_count": 0,
      "outputs": []
    },
    {
      "cell_type": "markdown",
      "metadata": {
        "id": "TziffaTiASkQ",
        "colab_type": "text"
      },
      "source": [
        "#Create Dataset from Labels And Images"
      ]
    },
    {
      "cell_type": "code",
      "metadata": {
        "id": "tYg6Kre9AO8X",
        "colab_type": "code",
        "colab": {}
      },
      "source": [
        "# Create Datasets\n",
        "train_batches = train_examples.cache().shuffle(num_examples//4).batch(BATCH_SIZE).map(format_example).prefetch(1)\n",
        "validation_batches = validation_examples.cache().batch(BATCH_SIZE).map(format_example)\n",
        "test_batches = test_examples.map(format_example).batch(1)"
      ],
      "execution_count": 0,
      "outputs": []
    },
    {
      "cell_type": "markdown",
      "metadata": {
        "id": "KDkioF4bAjvG",
        "colab_type": "text"
      },
      "source": [
        "#Building the Model¶"
      ]
    },
    {
      "cell_type": "markdown",
      "metadata": {
        "id": "_1CuXXpNAoMv",
        "colab_type": "text"
      },
      "source": [
        "Model: \"sequential\"\n",
        "_________________________________________________________________\n",
        "Layer (type)                   Output Shape              Param #   \n",
        "----------------------------------------------------------------\n",
        "conv2d (Conv2D)              (None, 26, 26, 16)        160       \n",
        "_________________________________________________________________\n",
        "max_pooling2d (MaxPooling2D) (None, 13, 13, 16)        0         \n",
        "_________________________________________________________________\n",
        "conv2d_1 (Conv2D)            (None, 11, 11, 32)        4640      \n",
        "_________________________________________________________________\n",
        "flatten (Flatten)            (None, 3872)              0         \n",
        "_________________________________________________________________\n",
        "dense (Dense)                (None, 64)                247872    \n",
        "_________________________________________________________________\n",
        "dense_1 (Dense)              (None, 10)                650       \n",
        "---------------------------------------------------------------------\n",
        "Total params: 253,322\n",
        "Trainable params: 253,322\n",
        "Non-trainable params: 0"
      ]
    },
    {
      "cell_type": "code",
      "metadata": {
        "id": "873WaN22AfBk",
        "colab_type": "code",
        "outputId": "1a268213-bb6d-4666-9f45-017adaaeda25",
        "colab": {
          "base_uri": "https://localhost:8080/",
          "height": 357
        }
      },
      "source": [
        "model = tf.keras.Sequential([\n",
        "    # Set the input shape to (28, 28, 1), kernel size=3, filters=16 and use ReLU activation,\n",
        "    tf.keras.layers.Conv2D(16,(3,3),activation=\"relu\",input_shape=(28,28,1)),\n",
        "      \n",
        "    tf.keras.layers.MaxPooling2D(),\n",
        "      \n",
        "    # Set the number of filters to 32, kernel size to 3 and use ReLU activation \n",
        "    tf.keras.layers.Conv2D(32,(3,3),activation=\"relu\"),\n",
        "      \n",
        "    # Flatten the output layer to 1 dimension\n",
        "    tf.keras.layers.Flatten(),\n",
        "      \n",
        "    # Add a fully connected layer with 64 hidden units and ReLU activation\n",
        "    tf.keras.layers.Dense(64,activation=\"relu\"),\n",
        "      \n",
        "    # Attach a final softmax classification head\n",
        "\n",
        "    tf.keras.layers.Dense(10, activation='softmax')])\n",
        "\n",
        "# Set the appropriate loss function and use accuracy as your metric\n",
        "model.compile(optimizer='adam',\n",
        "              loss=\"sparse_categorical_crossentropy\",\n",
        "              metrics=['accuracy'])\n",
        "model.summary()"
      ],
      "execution_count": 0,
      "outputs": [
        {
          "output_type": "stream",
          "text": [
            "Model: \"sequential\"\n",
            "_________________________________________________________________\n",
            "Layer (type)                 Output Shape              Param #   \n",
            "=================================================================\n",
            "conv2d (Conv2D)              (None, 26, 26, 16)        160       \n",
            "_________________________________________________________________\n",
            "max_pooling2d (MaxPooling2D) (None, 13, 13, 16)        0         \n",
            "_________________________________________________________________\n",
            "conv2d_1 (Conv2D)            (None, 11, 11, 32)        4640      \n",
            "_________________________________________________________________\n",
            "flatten (Flatten)            (None, 3872)              0         \n",
            "_________________________________________________________________\n",
            "dense (Dense)                (None, 64)                247872    \n",
            "_________________________________________________________________\n",
            "dense_1 (Dense)              (None, 10)                650       \n",
            "=================================================================\n",
            "Total params: 253,322\n",
            "Trainable params: 253,322\n",
            "Non-trainable params: 0\n",
            "_________________________________________________________________\n"
          ],
          "name": "stdout"
        }
      ]
    },
    {
      "cell_type": "markdown",
      "metadata": {
        "id": "7KzW1TgRBF5f",
        "colab_type": "text"
      },
      "source": [
        "#Training"
      ]
    },
    {
      "cell_type": "code",
      "metadata": {
        "id": "QMlADr9BA-5a",
        "colab_type": "code",
        "outputId": "95e6e525-7ef0-4994-c248-13f60e9e34dc",
        "colab": {
          "base_uri": "https://localhost:8080/",
          "height": 357
        }
      },
      "source": [
        "history = model.fit(train_batches, epochs=10, validation_data=validation_batches)"
      ],
      "execution_count": 0,
      "outputs": [
        {
          "output_type": "stream",
          "text": [
            "Epoch 1/10\n",
            "188/188 [==============================] - 22s 120ms/step - loss: 0.5180 - accuracy: 0.8209 - val_loss: 0.3540 - val_accuracy: 0.8707\n",
            "Epoch 2/10\n",
            "188/188 [==============================] - 19s 99ms/step - loss: 0.3362 - accuracy: 0.8804 - val_loss: 0.3057 - val_accuracy: 0.8835\n",
            "Epoch 3/10\n",
            "188/188 [==============================] - 19s 99ms/step - loss: 0.2930 - accuracy: 0.8962 - val_loss: 0.2921 - val_accuracy: 0.8915\n",
            "Epoch 4/10\n",
            "188/188 [==============================] - 19s 99ms/step - loss: 0.2631 - accuracy: 0.9056 - val_loss: 0.2715 - val_accuracy: 0.9007\n",
            "Epoch 5/10\n",
            "188/188 [==============================] - 19s 99ms/step - loss: 0.2364 - accuracy: 0.9156 - val_loss: 0.2635 - val_accuracy: 0.9045\n",
            "Epoch 6/10\n",
            "188/188 [==============================] - 19s 99ms/step - loss: 0.2184 - accuracy: 0.9224 - val_loss: 0.2528 - val_accuracy: 0.9078\n",
            "Epoch 7/10\n",
            "188/188 [==============================] - 19s 99ms/step - loss: 0.1964 - accuracy: 0.9288 - val_loss: 0.2483 - val_accuracy: 0.9050\n",
            "Epoch 8/10\n",
            "188/188 [==============================] - 19s 99ms/step - loss: 0.1838 - accuracy: 0.9336 - val_loss: 0.2398 - val_accuracy: 0.9108\n",
            "Epoch 9/10\n",
            "188/188 [==============================] - 19s 99ms/step - loss: 0.1654 - accuracy: 0.9409 - val_loss: 0.2376 - val_accuracy: 0.9130\n",
            "Epoch 10/10\n",
            "188/188 [==============================] - 19s 99ms/step - loss: 0.1497 - accuracy: 0.9463 - val_loss: 0.2351 - val_accuracy: 0.9140\n"
          ],
          "name": "stdout"
        }
      ]
    },
    {
      "cell_type": "markdown",
      "metadata": {
        "id": "jHjD3L__BO55",
        "colab_type": "text"
      },
      "source": [
        "#Exporting to TFLite\n",
        "You will now save the model to TFLite. We should note, that you will probably see some warning messages when running the code below. These warnings have to do with software updates and should not cause any errors or prevent your code from running."
      ]
    },
    {
      "cell_type": "code",
      "metadata": {
        "id": "fXV6zkR9BJtP",
        "colab_type": "code",
        "outputId": "9dd4db70-66d3-4e60-a4e6-0b35344e9604",
        "colab": {
          "base_uri": "https://localhost:8080/",
          "height": 173
        }
      },
      "source": [
        "# EXERCISE: Use the tf.saved_model API to save your model in the SavedModel format. \n",
        "export_dir = 'saved_model/1'\n",
        "\n",
        "# YOUR CODE HERE\n",
        "tf.saved_model.save(model, export_dir)"
      ],
      "execution_count": 0,
      "outputs": [
        {
          "output_type": "stream",
          "text": [
            "WARNING:tensorflow:From /usr/local/lib/python3.6/dist-packages/tensorflow/python/ops/resource_variable_ops.py:1817: calling BaseResourceVariable.__init__ (from tensorflow.python.ops.resource_variable_ops) with constraint is deprecated and will be removed in a future version.\n",
            "Instructions for updating:\n",
            "If using Keras pass *_constraint arguments to layers.\n"
          ],
          "name": "stdout"
        },
        {
          "output_type": "stream",
          "text": [
            "WARNING:tensorflow:From /usr/local/lib/python3.6/dist-packages/tensorflow/python/ops/resource_variable_ops.py:1817: calling BaseResourceVariable.__init__ (from tensorflow.python.ops.resource_variable_ops) with constraint is deprecated and will be removed in a future version.\n",
            "Instructions for updating:\n",
            "If using Keras pass *_constraint arguments to layers.\n"
          ],
          "name": "stderr"
        },
        {
          "output_type": "stream",
          "text": [
            "INFO:tensorflow:Assets written to: saved_model/1/assets\n"
          ],
          "name": "stdout"
        },
        {
          "output_type": "stream",
          "text": [
            "INFO:tensorflow:Assets written to: saved_model/1/assets\n"
          ],
          "name": "stderr"
        }
      ]
    },
    {
      "cell_type": "code",
      "metadata": {
        "id": "4IhmrBznBX_m",
        "colab_type": "code",
        "colab": {}
      },
      "source": [
        "# Select mode of optimization\n",
        "mode = \"Speed\" \n",
        "\n",
        "if mode == 'Storage':\n",
        "    optimization = tf.lite.Optimize.OPTIMIZE_FOR_SIZE\n",
        "elif mode == 'Speed':\n",
        "    optimization = tf.lite.Optimize.OPTIMIZE_FOR_LATENCY\n",
        "else:\n",
        "    optimization = tf.lite.Optimize.DEFAULT"
      ],
      "execution_count": 0,
      "outputs": []
    },
    {
      "cell_type": "code",
      "metadata": {
        "id": "QXsCRTh-BdcW",
        "colab_type": "code",
        "colab": {}
      },
      "source": [
        "# EXERCISE: Use the TFLiteConverter SavedModel API to initialize the converter\n",
        "\n",
        "converter = tf.lite.TFLiteConverter.from_saved_model(export_dir)\n",
        "\n",
        "# Set the optimzations\n",
        "converter.optimizations = [optimization]\n",
        "\n",
        "# Invoke the converter to finally generate the TFLite model\n",
        "tflite_model = converter.convert()"
      ],
      "execution_count": 0,
      "outputs": []
    },
    {
      "cell_type": "markdown",
      "metadata": {
        "id": "FYNAXt0dBm9S",
        "colab_type": "text"
      },
      "source": [
        "#Writing model"
      ]
    },
    {
      "cell_type": "code",
      "metadata": {
        "id": "uju1TkccBoRA",
        "colab_type": "code",
        "outputId": "3bd94d0d-aca1-4821-a5d3-e54913868f0c",
        "colab": {
          "base_uri": "https://localhost:8080/",
          "height": 34
        }
      },
      "source": [
        "tflite_model_file = pathlib.Path('./model.tflite')\n",
        "tflite_model_file.write_bytes(tflite_model)"
      ],
      "execution_count": 0,
      "outputs": [
        {
          "output_type": "execute_result",
          "data": {
            "text/plain": [
              "258672"
            ]
          },
          "metadata": {
            "tags": []
          },
          "execution_count": 16
        }
      ]
    },
    {
      "cell_type": "markdown",
      "metadata": {
        "id": "4_2niATVBtRS",
        "colab_type": "text"
      },
      "source": [
        "#Test the model with tensorflow lite interpreter"
      ]
    },
    {
      "cell_type": "code",
      "metadata": {
        "id": "1coxSVT4ByUa",
        "colab_type": "code",
        "colab": {}
      },
      "source": [
        "# Load TFLite model and allocate tensors.\n",
        "interpreter = tf.lite.Interpreter(model_content=tflite_model)\n",
        "interpreter.allocate_tensors()\n",
        "\n",
        "input_index = interpreter.get_input_details()[0][\"index\"]\n",
        "output_index = interpreter.get_output_details()[0][\"index\"]"
      ],
      "execution_count": 0,
      "outputs": []
    },
    {
      "cell_type": "code",
      "metadata": {
        "id": "fAdm7ijlB4Bp",
        "colab_type": "code",
        "colab": {}
      },
      "source": [
        "# Gather results for the randomly sampled test images\n",
        "predictions = []\n",
        "test_labels = []\n",
        "test_images = []\n",
        "\n",
        "for img, label in test_batches.take(50):\n",
        "    interpreter.set_tensor(input_index, img)\n",
        "    interpreter.invoke()\n",
        "    predictions.append(interpreter.get_tensor(output_index))\n",
        "    test_labels.append(label[0])\n",
        "    test_images.append(np.array(img))"
      ],
      "execution_count": 0,
      "outputs": []
    },
    {
      "cell_type": "markdown",
      "metadata": {
        "id": "xIIy4aabB8jc",
        "colab_type": "text"
      },
      "source": [
        "#Visualization"
      ]
    },
    {
      "cell_type": "code",
      "metadata": {
        "id": "dpn6uJSaB96i",
        "colab_type": "code",
        "colab": {}
      },
      "source": [
        "# Utilities functions for plotting\n",
        "\n",
        "def plot_image(i, predictions_array, true_label, img):\n",
        "    predictions_array, true_label, img = predictions_array[i], true_label[i], img[i]\n",
        "    plt.grid(False)\n",
        "    plt.xticks([])\n",
        "    plt.yticks([])\n",
        "    \n",
        "    img = np.squeeze(img)\n",
        "    \n",
        "    plt.imshow(img, cmap=plt.cm.binary)\n",
        "    \n",
        "    predicted_label = np.argmax(predictions_array)\n",
        "    \n",
        "    if predicted_label == true_label.numpy():\n",
        "        color = 'green'\n",
        "    else:\n",
        "        color = 'red'\n",
        "        \n",
        "    plt.xlabel(\"{} {:2.0f}% ({})\".format(class_names[predicted_label],\n",
        "                                         100*np.max(predictions_array),\n",
        "                                         class_names[true_label]),\n",
        "                                         color=color)\n",
        "\n",
        "def plot_value_array(i, predictions_array, true_label):\n",
        "    predictions_array, true_label = predictions_array[i], true_label[i]\n",
        "    plt.grid(False)\n",
        "    plt.xticks(list(range(10)))\n",
        "    plt.yticks([])\n",
        "    thisplot = plt.bar(range(10), predictions_array[0], color=\"#777777\")\n",
        "    plt.ylim([0, 1])\n",
        "    predicted_label = np.argmax(predictions_array[0])\n",
        "    \n",
        "    thisplot[predicted_label].set_color('red')\n",
        "    thisplot[true_label].set_color('blue')"
      ],
      "execution_count": 0,
      "outputs": []
    },
    {
      "cell_type": "code",
      "metadata": {
        "id": "-j2NwgTMCCqL",
        "colab_type": "code",
        "outputId": "946326b2-e088-4c79-a5e1-a27642202a12",
        "colab": {
          "base_uri": "https://localhost:8080/",
          "height": 211
        }
      },
      "source": [
        "# Visualize the outputs\n",
        "\n",
        "# Select index of image to display. Minimum index value is 1 and max index value is 50. \n",
        "index = 49 \n",
        "\n",
        "plt.figure(figsize=(6,3))\n",
        "plt.subplot(1,2,1)\n",
        "plot_image(index, predictions, test_labels, test_images)\n",
        "plt.subplot(1,2,2)\n",
        "plot_value_array(index, predictions, test_labels)\n",
        "plt.show()"
      ],
      "execution_count": 0,
      "outputs": [
        {
          "output_type": "display_data",
          "data": {
            "image/png": "[encoded data removed]",
            "text/plain": [
              "<Figure size 432x216 with 2 Axes>"
            ]
          },
          "metadata": {
            "tags": [],
            "needs_background": "light"
          }
        }
      ]
    },
    {
      "cell_type": "markdown",
      "metadata": {
        "id": "BGyIzUm5CNXR",
        "colab_type": "text"
      },
      "source": [
        "#Optimize For Storage"
      ]
    },
    {
      "cell_type": "code",
      "metadata": {
        "id": "5dqsHuTyCPn1",
        "colab_type": "code",
        "colab": {}
      },
      "source": [
        "# Select mode of optimization\n",
        "mode = \"Storage\" \n",
        "\n",
        "if mode == 'Storage':\n",
        "    optimization = tf.lite.Optimize.OPTIMIZE_FOR_SIZE\n",
        "elif mode == 'Speed':\n",
        "    optimization = tf.lite.Optimize.OPTIMIZE_FOR_LATENCY\n",
        "else:\n",
        "    optimization = tf.lite.Optimize.DEFAULT"
      ],
      "execution_count": 0,
      "outputs": []
    },
    {
      "cell_type": "code",
      "metadata": {
        "id": "u3vWHXkVCcK7",
        "colab_type": "code",
        "colab": {}
      },
      "source": [
        "# EXERCISE: Use the TFLiteConverter SavedModel API to initialize the converter\n",
        "\n",
        "converter = tf.lite.TFLiteConverter.from_saved_model(export_dir)\n",
        "\n",
        "# Set the optimzations\n",
        "converter.optimizations = [optimization]\n",
        "\n",
        "# Invoke the converter to finally generate the TFLite model\n",
        "tflite_model = converter.convert()"
      ],
      "execution_count": 0,
      "outputs": []
    },
    {
      "cell_type": "code",
      "metadata": {
        "id": "IUzmoOWyCg1J",
        "colab_type": "code",
        "outputId": "858b38aa-24e2-4b80-a9a0-c97086af980b",
        "colab": {
          "base_uri": "https://localhost:8080/",
          "height": 34
        }
      },
      "source": [
        "tflite_model_file = pathlib.Path('./model.tflite')\n",
        "tflite_model_file.write_bytes(tflite_model)"
      ],
      "execution_count": 0,
      "outputs": [
        {
          "output_type": "execute_result",
          "data": {
            "text/plain": [
              "258672"
            ]
          },
          "metadata": {
            "tags": []
          },
          "execution_count": 23
        }
      ]
    },
    {
      "cell_type": "code",
      "metadata": {
        "id": "ssVlgG_KCqla",
        "colab_type": "code",
        "colab": {}
      },
      "source": [
        "# Load TFLite model and allocate tensors.\n",
        "interpreter = tf.lite.Interpreter(model_content=tflite_model)\n",
        "interpreter.allocate_tensors()\n",
        "\n",
        "input_index = interpreter.get_input_details()[0][\"index\"]\n",
        "output_index = interpreter.get_output_details()[0][\"index\"]"
      ],
      "execution_count": 0,
      "outputs": []
    },
    {
      "cell_type": "code",
      "metadata": {
        "id": "VlQMSeKXC4LW",
        "colab_type": "code",
        "colab": {}
      },
      "source": [
        "# Gather results for the randomly sampled test images\n",
        "predictions = []\n",
        "test_labels = []\n",
        "test_images = []\n",
        "\n",
        "for img, label in test_batches.take(50):\n",
        "    interpreter.set_tensor(input_index, img)\n",
        "    interpreter.invoke()\n",
        "    predictions.append(interpreter.get_tensor(output_index))\n",
        "    test_labels.append(label[0])\n",
        "    test_images.append(np.array(img))"
      ],
      "execution_count": 0,
      "outputs": []
    },
    {
      "cell_type": "code",
      "metadata": {
        "id": "nTaln4a7C80S",
        "colab_type": "code",
        "outputId": "ab190dbb-c4ee-443e-d451-d3867450ed42",
        "colab": {
          "base_uri": "https://localhost:8080/",
          "height": 211
        }
      },
      "source": [
        "# Visualize the outputs\n",
        "\n",
        "# Select index of image to display. Minimum index value is 1 and max index value is 50. \n",
        "index = 49 \n",
        "\n",
        "plt.figure(figsize=(6,3))\n",
        "plt.subplot(1,2,1)\n",
        "plot_image(index, predictions, test_labels, test_images)\n",
        "plt.subplot(1,2,2)\n",
        "plot_value_array(index, predictions, test_labels)\n",
        "plt.show()"
      ],
      "execution_count": 0,
      "outputs": [
        {
          "output_type": "display_data",
          "data": {
            "image/png": "[encoded data removed]",
            "text/plain": [
              "<Figure size 432x216 with 2 Axes>"
            ]
          },
          "metadata": {
            "tags": [],
            "needs_background": "light"
          }
        }
      ]
    }
  ]
}