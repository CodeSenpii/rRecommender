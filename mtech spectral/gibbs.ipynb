{
  "nbformat": 4,
  "nbformat_minor": 0,
  "metadata": {
    "colab": {
      "name": "gibbs.ipynb",
      "provenance": []
    },
    "kernelspec": {
      "name": "python3",
      "display_name": "Python 3"
    }
  },
  "cells": [
    {
      "cell_type": "markdown",
      "metadata": {
        "id": "08EzJeh-4Blc",
        "colab_type": "text"
      },
      "source": [
        "#Fourier Series and Gibbs Phenomena\n",
        "\n",
        "In mathematics, the Gibbs phenomenon, discovered by Henry Wilbraham (1848)[1] and rediscovered by J. Willard Gibbs (1899),[2] is the peculiar manner in which the Fourier series of a piecewise continuously differentiable periodic function behaves at a jump discontinuity. The nth partial sum of the Fourier series has large oscillations near the jump, which might increase the maximum of the partial sum above that of the function itself. The overshoot does not die out as n increases, but approaches a finite limit.[3] This sort of behavior was also observed by experimental physicists, but was believed to be due to imperfections in the measuring apparatus\n",
        "\n",
        "visit [here](https://en.wikipedia.org/wiki/Gibbs_phenomenon) to learn more.\n",
        "\n"
      ]
    },
    {
      "cell_type": "markdown",
      "metadata": {
        "id": "pqWsP_ZR5B_C",
        "colab_type": "text"
      },
      "source": [
        "#Import"
      ]
    },
    {
      "cell_type": "code",
      "metadata": {
        "id": "KShRHgYs34A8",
        "colab_type": "code",
        "colab": {}
      },
      "source": [
        "import numpy as np\n",
        "import matplotlib.pyplot as plt\n",
        "plt.rcParams['figure.figsize'] = [16, 8]\n",
        "plt.rcParams.update({'font.size': 18})"
      ],
      "execution_count": 1,
      "outputs": []
    },
    {
      "cell_type": "markdown",
      "metadata": {
        "id": "YBse_jRe5SPY",
        "colab_type": "text"
      },
      "source": [
        "#Define Graph"
      ]
    },
    {
      "cell_type": "code",
      "metadata": {
        "id": "N8XzDQGA5MNk",
        "colab_type": "code",
        "colab": {
          "base_uri": "https://localhost:8080/",
          "height": 265
        },
        "outputId": "2df40bed-32db-4f3e-f5d3-6d3ec973b8a8"
      },
      "source": [
        "dx = 0.01\n",
        "L = 2*np.pi\n",
        "x = np.arange(0,L+dx,dx)\n",
        "n = len(x)\n",
        "nquart = int(np.floor(n/4))\n",
        "\n",
        "f = np.zeros_like(x)\n",
        "f[nquart:3*nquart] = 1\n",
        "\n",
        "plt.plot(x,f,color='k',LineWidth=2)\n",
        "plt.show()"
      ],
      "execution_count": 2,
      "outputs": [
        {
          "output_type": "display_data",
          "data": {
            "image/png": "[encoded data removed]",
            "text/plain": [
              "<Figure size 432x288 with 1 Axes>"
            ]
          },
          "metadata": {
            "tags": [],
            "needs_background": "light"
          }
        }
      ]
    },
    {
      "cell_type": "markdown",
      "metadata": {
        "id": "kLmKtSjV54QP",
        "colab_type": "text"
      },
      "source": [
        "#Difine Gibbs phenomena"
      ]
    },
    {
      "cell_type": "code",
      "metadata": {
        "id": "6eDpfQRd519Q",
        "colab_type": "code",
        "colab": {
          "base_uri": "https://localhost:8080/",
          "height": 265
        },
        "outputId": "5dae49cd-3ce2-495b-ac76-488d4bb985ec"
      },
      "source": [
        "A0 = np.sum(f * np.ones_like(x)) * dx * 2 / L\n",
        "fFS = A0/2 * np.ones_like(f)\n",
        "\n",
        "for k in range(1,101):\n",
        "    Ak = np.sum(f * np.cos(2*np.pi*k*x/L)) * dx * 2 / L\n",
        "    Bk = np.sum(f * np.sin(2*np.pi*k*x/L)) * dx * 2 / L\n",
        "    fFS = fFS + Ak*np.cos(2*k*np.pi*x/L) + Bk*np.sin(2*k*np.pi*x/L)\n",
        "plt.plot(x,f,color='k',LineWidth=2)\n",
        "plt.plot(x,fFS,'-',color='r',LineWidth=1.5)\n",
        "plt.show()"
      ],
      "execution_count": 3,
      "outputs": [
        {
          "output_type": "display_data",
          "data": {
            "image/png": "[encoded data removed]",
            "text/plain": [
              "<Figure size 432x288 with 1 Axes>"
            ]
          },
          "metadata": {
            "tags": [],
            "needs_background": "light"
          }
        }
      ]
    }
  ]
}