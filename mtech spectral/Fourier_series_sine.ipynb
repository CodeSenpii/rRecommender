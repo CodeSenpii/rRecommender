{
  "nbformat": 4,
  "nbformat_minor": 0,
  "metadata": {
    "colab": {
      "name": "Fourier_series_sine.ipynb",
      "provenance": []
    },
    "kernelspec": {
      "name": "python3",
      "display_name": "Python 3"
    }
  },
  "cells": [
    {
      "cell_type": "markdown",
      "metadata": {
        "id": "dD5jHIcYskXW",
        "colab_type": "text"
      },
      "source": [
        "# The Effect Of N in Fourier Series"
      ]
    },
    {
      "cell_type": "markdown",
      "metadata": {
        "id": "We_tqQbtsqgD",
        "colab_type": "text"
      },
      "source": [
        "This notebook shows how you can approximate the Fourier series with actual function using incresing Number of N"
      ]
    },
    {
      "cell_type": "markdown",
      "metadata": {
        "id": "TWtWzz_ns1tL",
        "colab_type": "text"
      },
      "source": [
        "# Import"
      ]
    },
    {
      "cell_type": "code",
      "metadata": {
        "id": "X8NGBFPqNBVF",
        "colab_type": "code",
        "colab": {}
      },
      "source": [
        "\n",
        "import numpy as np\n",
        "import matplotlib.pyplot as plt\n",
        "from matplotlib.cm import get_cmap\n",
        "\n",
        "plt.rcParams['figure.figsize'] = [8, 8]\n",
        "plt.rcParams.update({'font.size': 18})"
      ],
      "execution_count": 1,
      "outputs": []
    },
    {
      "cell_type": "markdown",
      "metadata": {
        "id": "7IeKPqrp3Bz0",
        "colab_type": "text"
      },
      "source": [
        "Defining the series .\n",
        "Here we will define a function that will change its behaviour wrt time."
      ]
    },
    {
      "cell_type": "code",
      "metadata": {
        "id": "a5KPZIgYNH2s",
        "colab_type": "code",
        "colab": {
          "base_uri": "https://localhost:8080/",
          "height": 51
        },
        "outputId": "e1bab056-5156-4328-c16a-2eb5f83ab7c6"
      },
      "source": [
        "# Define domain\n",
        "dx = 0.001\n",
        "L = np.pi\n",
        "x = L * np.arange(-1+dx,1+dx,dx)\n",
        "n = len(x)\n",
        "nquart = int(np.floor(n/4))\n",
        "\n",
        "print(x,n,nquart)"
      ],
      "execution_count": 2,
      "outputs": [
        {
          "output_type": "stream",
          "text": [
            "[-3.13845106 -3.13530947 -3.13216788 ...  3.13530947  3.13845106\n",
            "  3.14159265] 2000 500\n"
          ],
          "name": "stdout"
        }
      ]
    },
    {
      "cell_type": "markdown",
      "metadata": {
        "id": "7nO7U15b3MVa",
        "colab_type": "text"
      },
      "source": [
        "## Defination of Function"
      ]
    },
    {
      "cell_type": "code",
      "metadata": {
        "id": "WGPXwfZ5NozC",
        "colab_type": "code",
        "colab": {}
      },
      "source": [
        "# Define hat function\n",
        "f = np.zeros_like(x)\n",
        "f[nquart:2*nquart] = (4/n)*np.arange(1,nquart+1)\n",
        "f[2*nquart:3*nquart] = np.ones(nquart) - (4/n)*np.arange(0,nquart)"
      ],
      "execution_count": 3,
      "outputs": []
    },
    {
      "cell_type": "markdown",
      "metadata": {
        "id": "PAB-_z4I3Tla",
        "colab_type": "text"
      },
      "source": [
        "#Ploting The Function and Corresponding Fourier Series"
      ]
    },
    {
      "cell_type": "code",
      "metadata": {
        "id": "jlzauXPcN6XP",
        "colab_type": "code",
        "colab": {
          "base_uri": "https://localhost:8080/",
          "height": 265
        },
        "outputId": "d2645b76-c991-467b-dad6-777606c3cb8f"
      },
      "source": [
        "fig, ax = plt.subplots()\n",
        "ax.plot(x,f,'-',color='k',LineWidth=2)\n",
        "\n",
        "# Compute Fourier series\n",
        "name = \"Accent\"\n",
        "cmap = get_cmap('tab10')\n",
        "colors = cmap.colors\n",
        "ax.set_prop_cycle(color=colors)\n",
        "\n",
        "A0 = np.sum(f * np.ones_like(x)) * dx\n",
        "fFS = A0/2\n",
        "\n",
        "A = np.zeros(20)\n",
        "B = np.zeros(20)\n",
        "for k in range(20):\n",
        "    A[k] = np.sum(f * np.cos(np.pi*(k+1)*x/L)) * dx # Inner product\n",
        "    B[k] = np.sum(f * np.sin(np.pi*(k+1)*x/L)) * dx\n",
        "    fFS = fFS + A[k]*np.cos((k+1)*np.pi*x/L) + B[k]*np.sin((k+1)*np.pi*x/L)\n",
        "    ax.plot(x,fFS,'-')"
      ],
      "execution_count": 4,
      "outputs": [
        {
          "output_type": "display_data",
          "data": {
            "image/png": "[encoded data removed]",
            "text/plain": [
              "<Figure size 432x288 with 1 Axes>"
            ]
          },
          "metadata": {
            "tags": [],
            "needs_background": "light"
          }
        }
      ]
    }
  ]
}