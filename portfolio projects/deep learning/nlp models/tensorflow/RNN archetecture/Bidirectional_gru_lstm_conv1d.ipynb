{
  "nbformat": 4,
  "nbformat_minor": 0,
  "metadata": {
    "colab": {
      "name": "Bidirectional_gru_lstm_conv1d.ipynb",
      "provenance": []
    },
    "kernelspec": {
      "name": "python3",
      "display_name": "Python 3"
    }
  },
  "cells": [
    {
      "cell_type": "markdown",
      "metadata": {
        "id": "PACnIoNuB6zp",
        "colab_type": "text"
      },
      "source": [
        "#Classification of IMDB dataset using lstm,gru and conv1d"
      ]
    },
    {
      "cell_type": "markdown",
      "metadata": {
        "id": "DI6AwhXiCU6m",
        "colab_type": "text"
      },
      "source": [
        "#Import"
      ]
    },
    {
      "cell_type": "code",
      "metadata": {
        "id": "aDc_ko8DCUiF",
        "colab_type": "code",
        "colab": {}
      },
      "source": [
        "import tensorflow as tf \n",
        "import numpy as np\n",
        "import tensorflow_datasets as tfds\n",
        "from tensorflow.keras.preprocessing.text import Tokenizer\n",
        "from tensorflow.keras.preprocessing.sequence import pad_sequences\n",
        "import matplotlib.pyplot as plt"
      ],
      "execution_count": 4,
      "outputs": []
    },
    {
      "cell_type": "markdown",
      "metadata": {
        "id": "urb3StQuC3GC",
        "colab_type": "text"
      },
      "source": [
        "#Load data"
      ]
    },
    {
      "cell_type": "code",
      "metadata": {
        "id": "X7fu1rh9AoiK",
        "colab_type": "code",
        "colab": {}
      },
      "source": [
        "imdb, info = tfds.load(\"imdb_reviews\", with_info=True, as_supervised=True)\n",
        "train_data, test_data = imdb['train'], imdb['test']\n",
        "\n",
        "training_sentences = []\n",
        "training_labels = []\n",
        "\n",
        "testing_sentences = []\n",
        "testing_labels = []\n",
        "\n",
        "# str(s.tonumpy()) is needed in Python3 instead of just s.numpy()\n",
        "for s,l in train_data:\n",
        "  training_sentences.append(str(s.numpy()))\n",
        "  training_labels.append(l.numpy())\n",
        "  \n",
        "for s,l in test_data:\n",
        "  testing_sentences.append(str(s.numpy()))\n",
        "  testing_labels.append(l.numpy())\n",
        "  \n",
        "training_labels_final = np.array(training_labels)\n",
        "testing_labels_final = np.array(testing_labels)\n"
      ],
      "execution_count": 5,
      "outputs": []
    },
    {
      "cell_type": "markdown",
      "metadata": {
        "id": "OTs3VR46DhIP",
        "colab_type": "text"
      },
      "source": [
        "#Hyperparameter for the model"
      ]
    },
    {
      "cell_type": "code",
      "metadata": {
        "id": "oIrL7rvDDAvC",
        "colab_type": "code",
        "colab": {}
      },
      "source": [
        "vocab_size = 10000\n",
        "embedding_dim = 16\n",
        "max_length = 120\n",
        "trunc_type='post'\n",
        "oov_tok = \"<OOV>\""
      ],
      "execution_count": 6,
      "outputs": []
    },
    {
      "cell_type": "code",
      "metadata": {
        "id": "e005XcxlDkxC",
        "colab_type": "code",
        "colab": {}
      },
      "source": [
        "tokenizer = Tokenizer(num_words = vocab_size, oov_token=oov_tok)\n",
        "tokenizer.fit_on_texts(training_sentences)\n",
        "word_index = tokenizer.word_index\n",
        "sequences = tokenizer.texts_to_sequences(training_sentences)\n",
        "padded = pad_sequences(sequences,maxlen=max_length, truncating=trunc_type)\n",
        "\n",
        "testing_sequences = tokenizer.texts_to_sequences(testing_sentences)\n",
        "testing_padded = pad_sequences(testing_sequences,maxlen=max_length)"
      ],
      "execution_count": 7,
      "outputs": []
    },
    {
      "cell_type": "code",
      "metadata": {
        "id": "7fsFjfCaDoJJ",
        "colab_type": "code",
        "colab": {
          "base_uri": "https://localhost:8080/",
          "height": 71
        },
        "outputId": "6cf947fb-8e07-48cb-c5cb-1309cac5a773"
      },
      "source": [
        "reverse_word_index = dict([(value, key) for (key, value) in word_index.items()])\n",
        "\n",
        "def decode_review(text):\n",
        "    return ' '.join([reverse_word_index.get(i, '?') for i in text])\n",
        "\n",
        "print(decode_review(padded[1]))\n",
        "print(training_sentences[1])"
      ],
      "execution_count": 8,
      "outputs": [
        {
          "output_type": "stream",
          "text": [
            "? ? ? ? ? ? ? b'i have been known to fall asleep during films but this is usually due to a combination of things including really tired being warm and comfortable on the <OOV> and having just eaten a lot however on this occasion i fell asleep because the film was rubbish the plot development was constant constantly slow and boring things seemed to happen but with no explanation of what was causing them or why i admit i may have missed part of the film but i watched the majority of it and everything just seemed to happen of its own <OOV> without any real concern for anything else i cant recommend this film at all '\n",
            "b'I have been known to fall asleep during films, but this is usually due to a combination of things including, really tired, being warm and comfortable on the sette and having just eaten a lot. However on this occasion I fell asleep because the film was rubbish. The plot development was constant. Constantly slow and boring. Things seemed to happen, but with no explanation of what was causing them or why. I admit, I may have missed part of the film, but i watched the majority of it and everything just seemed to happen of its own accord without any real concern for anything else. I cant recommend this film at all.'\n"
          ],
          "name": "stdout"
        }
      ]
    },
    {
      "cell_type": "markdown",
      "metadata": {
        "id": "B3PCJbrnDysD",
        "colab_type": "text"
      },
      "source": [
        "#Bidirectional GRU Model"
      ]
    },
    {
      "cell_type": "code",
      "metadata": {
        "id": "cM8lV7blDvBG",
        "colab_type": "code",
        "colab": {
          "base_uri": "https://localhost:8080/",
          "height": 289
        },
        "outputId": "d0e7e0cd-e115-47ed-a246-6c383544cd36"
      },
      "source": [
        "model = tf.keras.Sequential([\n",
        "    tf.keras.layers.Embedding(vocab_size, embedding_dim, input_length=max_length),\n",
        "    tf.keras.layers.Bidirectional(tf.keras.layers.GRU(32)),\n",
        "    tf.keras.layers.Dense(6, activation='relu'),\n",
        "    tf.keras.layers.Dense(1, activation='sigmoid')\n",
        "])\n",
        "model.compile(loss='binary_crossentropy',optimizer='adam',metrics=['accuracy'])\n",
        "model.summary()"
      ],
      "execution_count": 9,
      "outputs": [
        {
          "output_type": "stream",
          "text": [
            "Model: \"sequential\"\n",
            "_________________________________________________________________\n",
            "Layer (type)                 Output Shape              Param #   \n",
            "=================================================================\n",
            "embedding (Embedding)        (None, 120, 16)           160000    \n",
            "_________________________________________________________________\n",
            "bidirectional (Bidirectional (None, 64)                9600      \n",
            "_________________________________________________________________\n",
            "dense (Dense)                (None, 6)                 390       \n",
            "_________________________________________________________________\n",
            "dense_1 (Dense)              (None, 1)                 7         \n",
            "=================================================================\n",
            "Total params: 169,997\n",
            "Trainable params: 169,997\n",
            "Non-trainable params: 0\n",
            "_________________________________________________________________\n"
          ],
          "name": "stdout"
        }
      ]
    },
    {
      "cell_type": "code",
      "metadata": {
        "id": "j19-6GXGD4S8",
        "colab_type": "code",
        "colab": {
          "base_uri": "https://localhost:8080/",
          "height": 1000
        },
        "outputId": "45523fc7-7a87-45f0-c490-b78e4b5ba02f"
      },
      "source": [
        "num_epochs = 50\n",
        "history = model.fit(padded, training_labels_final, epochs=num_epochs, validation_data=(testing_padded, testing_labels_final))"
      ],
      "execution_count": 10,
      "outputs": [
        {
          "output_type": "stream",
          "text": [
            "Epoch 1/50\n",
            "782/782 [==============================] - 74s 94ms/step - loss: 0.5526 - accuracy: 0.6943 - val_loss: 0.3675 - val_accuracy: 0.8420\n",
            "Epoch 2/50\n",
            "782/782 [==============================] - 73s 93ms/step - loss: 0.3130 - accuracy: 0.8708 - val_loss: 0.3556 - val_accuracy: 0.8437\n",
            "Epoch 3/50\n",
            "782/782 [==============================] - 73s 93ms/step - loss: 0.2385 - accuracy: 0.9084 - val_loss: 0.3797 - val_accuracy: 0.8442\n",
            "Epoch 4/50\n",
            "782/782 [==============================] - 74s 94ms/step - loss: 0.1866 - accuracy: 0.9310 - val_loss: 0.4101 - val_accuracy: 0.8310\n",
            "Epoch 5/50\n",
            "782/782 [==============================] - 74s 95ms/step - loss: 0.1341 - accuracy: 0.9532 - val_loss: 0.4574 - val_accuracy: 0.8270\n",
            "Epoch 6/50\n",
            "782/782 [==============================] - 72s 92ms/step - loss: 0.0958 - accuracy: 0.9672 - val_loss: 0.5537 - val_accuracy: 0.8234\n",
            "Epoch 7/50\n",
            "782/782 [==============================] - 72s 92ms/step - loss: 0.0615 - accuracy: 0.9799 - val_loss: 0.6997 - val_accuracy: 0.8221\n",
            "Epoch 8/50\n",
            "782/782 [==============================] - 72s 92ms/step - loss: 0.0428 - accuracy: 0.9863 - val_loss: 0.7939 - val_accuracy: 0.8126\n",
            "Epoch 9/50\n",
            "782/782 [==============================] - 72s 93ms/step - loss: 0.0351 - accuracy: 0.9879 - val_loss: 0.8445 - val_accuracy: 0.8124\n",
            "Epoch 10/50\n",
            "782/782 [==============================] - 72s 91ms/step - loss: 0.0203 - accuracy: 0.9936 - val_loss: 0.9455 - val_accuracy: 0.8086\n",
            "Epoch 11/50\n",
            "782/782 [==============================] - 72s 92ms/step - loss: 0.0206 - accuracy: 0.9936 - val_loss: 0.9597 - val_accuracy: 0.8110\n",
            "Epoch 12/50\n",
            "782/782 [==============================] - 72s 92ms/step - loss: 0.0166 - accuracy: 0.9944 - val_loss: 0.9908 - val_accuracy: 0.8110\n",
            "Epoch 13/50\n",
            "782/782 [==============================] - 73s 93ms/step - loss: 0.0130 - accuracy: 0.9954 - val_loss: 1.0124 - val_accuracy: 0.8142\n",
            "Epoch 14/50\n",
            "782/782 [==============================] - 72s 92ms/step - loss: 0.0087 - accuracy: 0.9970 - val_loss: 1.1549 - val_accuracy: 0.8109\n",
            "Epoch 15/50\n",
            "782/782 [==============================] - 72s 92ms/step - loss: 0.0113 - accuracy: 0.9965 - val_loss: 1.1221 - val_accuracy: 0.8076\n",
            "Epoch 16/50\n",
            "782/782 [==============================] - 71s 91ms/step - loss: 0.0117 - accuracy: 0.9960 - val_loss: 1.2465 - val_accuracy: 0.8110\n",
            "Epoch 17/50\n",
            "782/782 [==============================] - 72s 92ms/step - loss: 0.0068 - accuracy: 0.9980 - val_loss: 1.2965 - val_accuracy: 0.8091\n",
            "Epoch 18/50\n",
            "782/782 [==============================] - 72s 93ms/step - loss: 0.0101 - accuracy: 0.9962 - val_loss: 1.1879 - val_accuracy: 0.8052\n",
            "Epoch 19/50\n",
            "782/782 [==============================] - 71s 91ms/step - loss: 0.0079 - accuracy: 0.9974 - val_loss: 1.2042 - val_accuracy: 0.8105\n",
            "Epoch 20/50\n",
            "782/782 [==============================] - 71s 91ms/step - loss: 0.0065 - accuracy: 0.9979 - val_loss: 1.3790 - val_accuracy: 0.8106\n",
            "Epoch 21/50\n",
            "782/782 [==============================] - 72s 92ms/step - loss: 0.0061 - accuracy: 0.9979 - val_loss: 1.3302 - val_accuracy: 0.8126\n",
            "Epoch 22/50\n",
            "782/782 [==============================] - 72s 92ms/step - loss: 0.0029 - accuracy: 0.9992 - val_loss: 1.4036 - val_accuracy: 0.8003\n",
            "Epoch 23/50\n",
            "782/782 [==============================] - 72s 92ms/step - loss: 0.0023 - accuracy: 0.9994 - val_loss: 1.4724 - val_accuracy: 0.8116\n",
            "Epoch 24/50\n",
            "782/782 [==============================] - 71s 91ms/step - loss: 0.0090 - accuracy: 0.9969 - val_loss: 1.2705 - val_accuracy: 0.8094\n",
            "Epoch 25/50\n",
            "782/782 [==============================] - 71s 91ms/step - loss: 0.0057 - accuracy: 0.9979 - val_loss: 1.6413 - val_accuracy: 0.8011\n",
            "Epoch 26/50\n",
            "782/782 [==============================] - 71s 91ms/step - loss: 0.0061 - accuracy: 0.9983 - val_loss: 1.3655 - val_accuracy: 0.8090\n",
            "Epoch 27/50\n",
            "782/782 [==============================] - 72s 92ms/step - loss: 0.0027 - accuracy: 0.9991 - val_loss: 1.4048 - val_accuracy: 0.8114\n",
            "Epoch 28/50\n",
            "782/782 [==============================] - 71s 91ms/step - loss: 0.0017 - accuracy: 0.9994 - val_loss: 1.4430 - val_accuracy: 0.8104\n",
            "Epoch 29/50\n",
            "782/782 [==============================] - 71s 91ms/step - loss: 0.0025 - accuracy: 0.9993 - val_loss: 1.4506 - val_accuracy: 0.8098\n",
            "Epoch 30/50\n",
            "782/782 [==============================] - 72s 92ms/step - loss: 0.0059 - accuracy: 0.9978 - val_loss: 1.3803 - val_accuracy: 0.8086\n",
            "Epoch 31/50\n",
            "782/782 [==============================] - 74s 94ms/step - loss: 0.0036 - accuracy: 0.9989 - val_loss: 1.6092 - val_accuracy: 0.8144\n",
            "Epoch 32/50\n",
            "782/782 [==============================] - 72s 92ms/step - loss: 0.0015 - accuracy: 0.9996 - val_loss: 1.4444 - val_accuracy: 0.8121\n",
            "Epoch 33/50\n",
            "782/782 [==============================] - 72s 91ms/step - loss: 4.7885e-04 - accuracy: 0.9999 - val_loss: 1.6715 - val_accuracy: 0.8044\n",
            "Epoch 34/50\n",
            "782/782 [==============================] - 72s 93ms/step - loss: 1.3673e-04 - accuracy: 1.0000 - val_loss: 1.6863 - val_accuracy: 0.8130\n",
            "Epoch 35/50\n",
            "782/782 [==============================] - 72s 92ms/step - loss: 1.3851e-05 - accuracy: 1.0000 - val_loss: 1.7187 - val_accuracy: 0.8128\n",
            "Epoch 36/50\n",
            "782/782 [==============================] - 73s 93ms/step - loss: 8.5868e-06 - accuracy: 1.0000 - val_loss: 1.7533 - val_accuracy: 0.8128\n",
            "Epoch 37/50\n",
            "782/782 [==============================] - 71s 91ms/step - loss: 6.1774e-06 - accuracy: 1.0000 - val_loss: 1.7905 - val_accuracy: 0.8126\n",
            "Epoch 38/50\n",
            "782/782 [==============================] - 72s 92ms/step - loss: 4.4418e-06 - accuracy: 1.0000 - val_loss: 1.8315 - val_accuracy: 0.8130\n",
            "Epoch 39/50\n",
            "782/782 [==============================] - 72s 92ms/step - loss: 3.1647e-06 - accuracy: 1.0000 - val_loss: 1.8755 - val_accuracy: 0.8130\n",
            "Epoch 40/50\n",
            "782/782 [==============================] - 73s 94ms/step - loss: 2.2233e-06 - accuracy: 1.0000 - val_loss: 1.9225 - val_accuracy: 0.8130\n",
            "Epoch 41/50\n",
            "782/782 [==============================] - 72s 91ms/step - loss: 1.5479e-06 - accuracy: 1.0000 - val_loss: 1.9720 - val_accuracy: 0.8136\n",
            "Epoch 42/50\n",
            "782/782 [==============================] - 72s 92ms/step - loss: 1.0624e-06 - accuracy: 1.0000 - val_loss: 2.0238 - val_accuracy: 0.8133\n",
            "Epoch 43/50\n",
            "782/782 [==============================] - 71s 91ms/step - loss: 7.2692e-07 - accuracy: 1.0000 - val_loss: 2.0783 - val_accuracy: 0.8136\n",
            "Epoch 44/50\n",
            "782/782 [==============================] - 72s 92ms/step - loss: 4.9106e-07 - accuracy: 1.0000 - val_loss: 2.1343 - val_accuracy: 0.8131\n",
            "Epoch 45/50\n",
            "782/782 [==============================] - 73s 93ms/step - loss: 3.3285e-07 - accuracy: 1.0000 - val_loss: 2.1896 - val_accuracy: 0.8140\n",
            "Epoch 46/50\n",
            "782/782 [==============================] - 77s 98ms/step - loss: 2.2477e-07 - accuracy: 1.0000 - val_loss: 2.2458 - val_accuracy: 0.8131\n",
            "Epoch 47/50\n",
            "782/782 [==============================] - 73s 94ms/step - loss: 1.5173e-07 - accuracy: 1.0000 - val_loss: 2.3047 - val_accuracy: 0.8135\n",
            "Epoch 48/50\n",
            "782/782 [==============================] - 72s 92ms/step - loss: 1.0263e-07 - accuracy: 1.0000 - val_loss: 2.3617 - val_accuracy: 0.8134\n",
            "Epoch 49/50\n",
            "782/782 [==============================] - 74s 95ms/step - loss: 6.9208e-08 - accuracy: 1.0000 - val_loss: 2.4223 - val_accuracy: 0.8133\n",
            "Epoch 50/50\n",
            "782/782 [==============================] - 72s 92ms/step - loss: 4.7122e-08 - accuracy: 1.0000 - val_loss: 2.4793 - val_accuracy: 0.8131\n"
          ],
          "name": "stdout"
        }
      ]
    },
    {
      "cell_type": "markdown",
      "metadata": {
        "id": "GQemIiyjEDVk",
        "colab_type": "text"
      },
      "source": [
        "#Visualization Graph"
      ]
    },
    {
      "cell_type": "code",
      "metadata": {
        "id": "wBIRQnZsD-eS",
        "colab_type": "code",
        "colab": {
          "base_uri": "https://localhost:8080/",
          "height": 541
        },
        "outputId": "decf6543-ef1d-4a7c-b04e-002a796b25b0"
      },
      "source": [
        "def plot_graphs(history, string):\n",
        "  plt.plot(history.history[string])\n",
        "  plt.plot(history.history['val_'+string])\n",
        "  plt.xlabel(\"Epochs\")\n",
        "  plt.ylabel(string)\n",
        "  plt.legend([string, 'val_'+string])\n",
        "  plt.show()\n",
        "\n",
        "plot_graphs(history, 'accuracy')\n",
        "plot_graphs(history, 'loss')"
      ],
      "execution_count": 11,
      "outputs": [
        {
          "output_type": "display_data",
          "data": {
            "image/png": "[encoded data removed]",
            "text/plain": [
              "<Figure size 432x288 with 1 Axes>"
            ]
          },
          "metadata": {
            "tags": [],
            "needs_background": "light"
          }
        },
        {
          "output_type": "display_data",
          "data": {
            "image/png": "[encoded data removed]",
            "text/plain": [
              "<Figure size 432x288 with 1 Axes>"
            ]
          },
          "metadata": {
            "tags": [],
            "needs_background": "light"
          }
        }
      ]
    },
    {
      "cell_type": "code",
      "metadata": {
        "id": "V8_InHACIAPl",
        "colab_type": "code",
        "colab": {}
      },
      "source": [
        "model.save(\"bgru.h5\")"
      ],
      "execution_count": null,
      "outputs": []
    },
    {
      "cell_type": "markdown",
      "metadata": {
        "id": "sIYj79wLERZO",
        "colab_type": "text"
      },
      "source": [
        "#Bidirectional LSTM model"
      ]
    },
    {
      "cell_type": "code",
      "metadata": {
        "id": "ieCi4-ScEHu2",
        "colab_type": "code",
        "colab": {
          "base_uri": "https://localhost:8080/",
          "height": 289
        },
        "outputId": "c6b5921f-1cbd-4bf0-d07f-14e34ca60e0c"
      },
      "source": [
        "# Model Definition with LSTM\n",
        "model = tf.keras.Sequential([\n",
        "    tf.keras.layers.Embedding(vocab_size, embedding_dim, input_length=max_length),\n",
        "    tf.keras.layers.Bidirectional(tf.keras.layers.LSTM(32)),\n",
        "    tf.keras.layers.Dense(6, activation='relu'),\n",
        "    tf.keras.layers.Dense(1, activation='sigmoid')\n",
        "])\n",
        "model.compile(loss='binary_crossentropy',optimizer='adam',metrics=['accuracy'])\n",
        "model.summary()"
      ],
      "execution_count": 12,
      "outputs": [
        {
          "output_type": "stream",
          "text": [
            "Model: \"sequential_1\"\n",
            "_________________________________________________________________\n",
            "Layer (type)                 Output Shape              Param #   \n",
            "=================================================================\n",
            "embedding_1 (Embedding)      (None, 120, 16)           160000    \n",
            "_________________________________________________________________\n",
            "bidirectional_1 (Bidirection (None, 64)                12544     \n",
            "_________________________________________________________________\n",
            "dense_2 (Dense)              (None, 6)                 390       \n",
            "_________________________________________________________________\n",
            "dense_3 (Dense)              (None, 1)                 7         \n",
            "=================================================================\n",
            "Total params: 172,941\n",
            "Trainable params: 172,941\n",
            "Non-trainable params: 0\n",
            "_________________________________________________________________\n"
          ],
          "name": "stdout"
        }
      ]
    },
    {
      "cell_type": "code",
      "metadata": {
        "id": "OsFtki3REVQ6",
        "colab_type": "code",
        "colab": {
          "base_uri": "https://localhost:8080/",
          "height": 391
        },
        "outputId": "86a69e73-060f-444f-be51-a16ca093b616"
      },
      "source": [
        "num_epochs = 50\n",
        "history = model.fit(padded, training_labels_final, epochs=num_epochs, validation_data=(testing_padded, testing_labels_final))"
      ],
      "execution_count": null,
      "outputs": [
        {
          "output_type": "stream",
          "text": [
            "Epoch 1/50\n",
            "782/782 [==============================] - 71s 91ms/step - loss: 0.4682 - accuracy: 0.7653 - val_loss: 0.3417 - val_accuracy: 0.8490\n",
            "Epoch 2/50\n",
            "782/782 [==============================] - 70s 89ms/step - loss: 0.2916 - accuracy: 0.8828 - val_loss: 0.3450 - val_accuracy: 0.8499\n",
            "Epoch 3/50\n",
            "782/782 [==============================] - 71s 91ms/step - loss: 0.2362 - accuracy: 0.9095 - val_loss: 0.3810 - val_accuracy: 0.8394\n",
            "Epoch 4/50\n",
            "782/782 [==============================] - 75s 96ms/step - loss: 0.1937 - accuracy: 0.9273 - val_loss: 0.3878 - val_accuracy: 0.8312\n",
            "Epoch 5/50\n",
            "782/782 [==============================] - 70s 89ms/step - loss: 0.1543 - accuracy: 0.9441 - val_loss: 0.4491 - val_accuracy: 0.8314\n",
            "Epoch 6/50\n",
            "782/782 [==============================] - 70s 89ms/step - loss: 0.1134 - accuracy: 0.9602 - val_loss: 0.5359 - val_accuracy: 0.8267\n",
            "Epoch 7/50\n",
            "782/782 [==============================] - 70s 89ms/step - loss: 0.0892 - accuracy: 0.9682 - val_loss: 0.6373 - val_accuracy: 0.8057\n",
            "Epoch 8/50\n",
            "782/782 [==============================] - 72s 92ms/step - loss: 0.0663 - accuracy: 0.9770 - val_loss: 0.6708 - val_accuracy: 0.8226\n",
            "Epoch 9/50\n",
            "782/782 [==============================] - 71s 90ms/step - loss: 0.0453 - accuracy: 0.9854 - val_loss: 0.7685 - val_accuracy: 0.8147\n",
            "Epoch 10/50\n",
            "782/782 [==============================] - 70s 90ms/step - loss: 0.0383 - accuracy: 0.9880 - val_loss: 0.8438 - val_accuracy: 0.8163\n",
            "Epoch 11/50\n",
            "588/782 [=====================>........] - ETA: 14s - loss: 0.0257 - accuracy: 0.9915"
          ],
          "name": "stdout"
        }
      ]
    },
    {
      "cell_type": "code",
      "metadata": {
        "id": "-L616a6uEc3_",
        "colab_type": "code",
        "colab": {}
      },
      "source": [
        "plot_graphs(history, 'accuracy')\n",
        "plot_graphs(history, 'loss')"
      ],
      "execution_count": null,
      "outputs": []
    },
    {
      "cell_type": "code",
      "metadata": {
        "id": "_GCTXRluIEMH",
        "colab_type": "code",
        "colab": {}
      },
      "source": [
        "model.save(\"blstm.h5\")"
      ],
      "execution_count": null,
      "outputs": []
    },
    {
      "cell_type": "markdown",
      "metadata": {
        "id": "MgykqkqxEpIU",
        "colab_type": "text"
      },
      "source": [
        "#Convulution 1D MODEL"
      ]
    },
    {
      "cell_type": "code",
      "metadata": {
        "id": "ptB10eEpEf0R",
        "colab_type": "code",
        "colab": {}
      },
      "source": [
        "# Model Definition with Conv1D\n",
        "model = tf.keras.Sequential([\n",
        "    tf.keras.layers.Embedding(vocab_size, embedding_dim, input_length=max_length),\n",
        "    tf.keras.layers.Conv1D(128, 5, activation='relu'),\n",
        "    tf.keras.layers.GlobalAveragePooling1D(),\n",
        "    tf.keras.layers.Dense(6, activation='relu'),\n",
        "    tf.keras.layers.Dense(1, activation='sigmoid')\n",
        "])\n",
        "model.compile(loss='binary_crossentropy',optimizer='adam',metrics=['accuracy'])\n",
        "model.summary()"
      ],
      "execution_count": null,
      "outputs": []
    },
    {
      "cell_type": "code",
      "metadata": {
        "id": "Hyfd2Dc0E0Vf",
        "colab_type": "code",
        "colab": {}
      },
      "source": [
        "num_epochs = 50\n",
        "history = model.fit(padded, training_labels_final, epochs=num_epochs, validation_data=(testing_padded, testing_labels_final))"
      ],
      "execution_count": null,
      "outputs": []
    },
    {
      "cell_type": "code",
      "metadata": {
        "id": "HjvjvpKaE3Et",
        "colab_type": "code",
        "colab": {}
      },
      "source": [
        "plot_graphs(history, 'accuracy')\n",
        "plot_graphs(history, 'loss')"
      ],
      "execution_count": null,
      "outputs": []
    },
    {
      "cell_type": "code",
      "metadata": {
        "id": "jgZrJ8eIIIOR",
        "colab_type": "code",
        "colab": {}
      },
      "source": [
        "model.save(\"conv1.h5\")"
      ],
      "execution_count": null,
      "outputs": []
    },
    {
      "cell_type": "markdown",
      "metadata": {
        "id": "Ak557nMI-s0x",
        "colab_type": "text"
      },
      "source": [
        "#Written by : SATYAJIT MAITRA\n",
        "## follow github: https://github.com/MachineLearningWithHuman/\n",
        "## Email for work : ssatyajitmaitra@gmail.com\n",
        "##learn with me on youtube: https://www.youtube.com/channel/UCiWd572-4LeH0IqJ5A7LavA/\n",
        "### please give a star if it helps you "
      ]
    },
    {
      "cell_type": "code",
      "metadata": {
        "id": "ZCI0gilsE5ye",
        "colab_type": "code",
        "colab": {}
      },
      "source": [
        ""
      ],
      "execution_count": null,
      "outputs": []
    }
  ]
}