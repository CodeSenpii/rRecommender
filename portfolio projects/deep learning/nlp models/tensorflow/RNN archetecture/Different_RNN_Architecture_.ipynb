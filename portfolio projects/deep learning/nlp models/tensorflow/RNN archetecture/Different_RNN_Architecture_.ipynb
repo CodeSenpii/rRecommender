{
  "nbformat": 4,
  "nbformat_minor": 0,
  "metadata": {
    "colab": {
      "name": "Different RNN Architecture .ipynb",
      "provenance": []
    },
    "kernelspec": {
      "name": "python3",
      "display_name": "Python 3"
    }
  },
  "cells": [
    {
      "cell_type": "markdown",
      "metadata": {
        "id": "thXnEQpzJqpu",
        "colab_type": "text"
      },
      "source": [
        "#Download Data"
      ]
    },
    {
      "cell_type": "code",
      "metadata": {
        "id": "Hz2Wc8CSJFU6",
        "colab_type": "code",
        "colab": {
          "base_uri": "https://localhost:8080/",
          "height": 204
        },
        "outputId": "f4797160-e5ab-472b-bccc-5742697bb522"
      },
      "source": [
        "import numpy as np\n",
        "\n",
        "import json\n",
        "import tensorflow as tf\n",
        "\n",
        "from tensorflow.keras.preprocessing.text import Tokenizer\n",
        "from tensorflow.keras.preprocessing.sequence import pad_sequences\n",
        "\n",
        "!wget --no-check-certificate \\\n",
        "    https://storage.googleapis.com/laurencemoroney-blog.appspot.com/sarcasm.json \\\n",
        "    -O /tmp/sarcasm.json"
      ],
      "execution_count": 1,
      "outputs": [
        {
          "output_type": "stream",
          "text": [
            "--2020-07-11 04:34:40--  https://storage.googleapis.com/laurencemoroney-blog.appspot.com/sarcasm.json\n",
            "Resolving storage.googleapis.com (storage.googleapis.com)... 173.194.217.128, 64.233.170.128, 172.217.204.128, ...\n",
            "Connecting to storage.googleapis.com (storage.googleapis.com)|173.194.217.128|:443... connected.\n",
            "HTTP request sent, awaiting response... 200 OK\n",
            "Length: 5643545 (5.4M) [application/json]\n",
            "Saving to: ‘/tmp/sarcasm.json’\n",
            "\n",
            "\r/tmp/sarcasm.json     0%[                    ]       0  --.-KB/s               \r/tmp/sarcasm.json   100%[===================>]   5.38M  --.-KB/s    in 0.06s   \n",
            "\n",
            "2020-07-11 04:34:40 (93.2 MB/s) - ‘/tmp/sarcasm.json’ saved [5643545/5643545]\n",
            "\n"
          ],
          "name": "stdout"
        }
      ]
    },
    {
      "cell_type": "code",
      "metadata": {
        "id": "SPbVKYO5JtuV",
        "colab_type": "code",
        "colab": {
          "base_uri": "https://localhost:8080/",
          "height": 1000
        },
        "outputId": "96f74079-f189-44f1-c128-ed778e3d622d"
      },
      "source": [
        "vocab_size = 1000\n",
        "embedding_dim = 16\n",
        "max_length = 120\n",
        "trunc_type='post'\n",
        "padding_type='post'\n",
        "oov_tok = \"<OOV>\"\n",
        "training_size = 20000\n",
        "\n",
        "\n",
        "with open(\"/tmp/sarcasm.json\", 'r') as f:\n",
        "    datastore = json.load(f)\n",
        "\n",
        "\n",
        "sentences = []\n",
        "labels = []\n",
        "urls = []\n",
        "for item in datastore:\n",
        "    sentences.append(item['headline'])\n",
        "    labels.append(item['is_sarcastic'])\n",
        "\n",
        "training_sentences = sentences[0:training_size]\n",
        "testing_sentences = sentences[training_size:]\n",
        "training_labels = labels[0:training_size]\n",
        "testing_labels = labels[training_size:]\n",
        "\n",
        "tokenizer = Tokenizer(num_words=vocab_size, oov_token=oov_tok)\n",
        "tokenizer.fit_on_texts(training_sentences)\n",
        "\n",
        "word_index = tokenizer.word_index\n",
        "\n",
        "training_sequences = tokenizer.texts_to_sequences(training_sentences)\n",
        "training_padded = pad_sequences(training_sequences, maxlen=max_length, padding=padding_type, truncating=trunc_type)\n",
        "\n",
        "testing_sequences = tokenizer.texts_to_sequences(testing_sentences)\n",
        "testing_padded = pad_sequences(testing_sequences, maxlen=max_length, padding=padding_type, truncating=trunc_type)\n",
        "\n",
        "model = tf.keras.Sequential([\n",
        "    tf.keras.layers.Embedding(vocab_size, embedding_dim, input_length=max_length),\n",
        "    tf.keras.layers.Conv1D(128, 5, activation='relu'),\n",
        "    tf.keras.layers.GlobalMaxPooling1D(),\n",
        "    tf.keras.layers.Dense(24, activation='relu'),\n",
        "    tf.keras.layers.Dense(1, activation='sigmoid')\n",
        "])\n",
        "model.compile(loss='binary_crossentropy',optimizer='adam',metrics=['accuracy'])\n",
        "model.summary()\n",
        "\n",
        "num_epochs = 50\n",
        "\n",
        "training_padded = np.array(training_padded)\n",
        "training_labels = np.array(training_labels)\n",
        "testing_padded = np.array(testing_padded)\n",
        "testing_labels = np.array(testing_labels)\n",
        "\n",
        "history = model.fit(training_padded, training_labels, epochs=num_epochs, validation_data=(testing_padded, testing_labels), verbose=1)\n"
      ],
      "execution_count": 2,
      "outputs": [
        {
          "output_type": "stream",
          "text": [
            "Model: \"sequential\"\n",
            "_________________________________________________________________\n",
            "Layer (type)                 Output Shape              Param #   \n",
            "=================================================================\n",
            "embedding (Embedding)        (None, 120, 16)           16000     \n",
            "_________________________________________________________________\n",
            "conv1d (Conv1D)              (None, 116, 128)          10368     \n",
            "_________________________________________________________________\n",
            "global_max_pooling1d (Global (None, 128)               0         \n",
            "_________________________________________________________________\n",
            "dense (Dense)                (None, 24)                3096      \n",
            "_________________________________________________________________\n",
            "dense_1 (Dense)              (None, 1)                 25        \n",
            "=================================================================\n",
            "Total params: 29,489\n",
            "Trainable params: 29,489\n",
            "Non-trainable params: 0\n",
            "_________________________________________________________________\n",
            "Epoch 1/50\n",
            "625/625 [==============================] - 8s 14ms/step - loss: 0.4681 - accuracy: 0.7618 - val_loss: 0.4143 - val_accuracy: 0.8128\n",
            "Epoch 2/50\n",
            "625/625 [==============================] - 8s 13ms/step - loss: 0.3573 - accuracy: 0.8386 - val_loss: 0.3951 - val_accuracy: 0.8140\n",
            "Epoch 3/50\n",
            "625/625 [==============================] - 8s 13ms/step - loss: 0.3207 - accuracy: 0.8590 - val_loss: 0.3875 - val_accuracy: 0.8249\n",
            "Epoch 4/50\n",
            "625/625 [==============================] - 8s 13ms/step - loss: 0.2881 - accuracy: 0.8763 - val_loss: 0.4025 - val_accuracy: 0.8219\n",
            "Epoch 5/50\n",
            "625/625 [==============================] - 8s 13ms/step - loss: 0.2542 - accuracy: 0.8945 - val_loss: 0.4186 - val_accuracy: 0.8219\n",
            "Epoch 6/50\n",
            "625/625 [==============================] - 8s 13ms/step - loss: 0.2199 - accuracy: 0.9110 - val_loss: 0.4449 - val_accuracy: 0.8176\n",
            "Epoch 7/50\n",
            "625/625 [==============================] - 9s 15ms/step - loss: 0.1849 - accuracy: 0.9281 - val_loss: 0.4994 - val_accuracy: 0.8125\n",
            "Epoch 8/50\n",
            "625/625 [==============================] - 9s 14ms/step - loss: 0.1541 - accuracy: 0.9444 - val_loss: 0.5535 - val_accuracy: 0.8134\n",
            "Epoch 9/50\n",
            "625/625 [==============================] - 8s 13ms/step - loss: 0.1260 - accuracy: 0.9543 - val_loss: 0.6082 - val_accuracy: 0.8030\n",
            "Epoch 10/50\n",
            "625/625 [==============================] - 8s 13ms/step - loss: 0.1018 - accuracy: 0.9651 - val_loss: 0.6795 - val_accuracy: 0.8044\n",
            "Epoch 11/50\n",
            "625/625 [==============================] - 8s 13ms/step - loss: 0.0838 - accuracy: 0.9701 - val_loss: 0.7495 - val_accuracy: 0.8038\n",
            "Epoch 12/50\n",
            "625/625 [==============================] - 8s 13ms/step - loss: 0.0706 - accuracy: 0.9754 - val_loss: 0.8175 - val_accuracy: 0.7974\n",
            "Epoch 13/50\n",
            "625/625 [==============================] - 8s 13ms/step - loss: 0.0605 - accuracy: 0.9790 - val_loss: 0.8941 - val_accuracy: 0.7943\n",
            "Epoch 14/50\n",
            "625/625 [==============================] - 8s 13ms/step - loss: 0.0505 - accuracy: 0.9815 - val_loss: 1.0086 - val_accuracy: 0.7977\n",
            "Epoch 15/50\n",
            "625/625 [==============================] - 8s 13ms/step - loss: 0.0446 - accuracy: 0.9835 - val_loss: 1.1258 - val_accuracy: 0.7988\n",
            "Epoch 16/50\n",
            "625/625 [==============================] - 9s 14ms/step - loss: 0.0398 - accuracy: 0.9857 - val_loss: 1.1668 - val_accuracy: 0.7997\n",
            "Epoch 17/50\n",
            "625/625 [==============================] - 9s 15ms/step - loss: 0.0407 - accuracy: 0.9850 - val_loss: 1.2004 - val_accuracy: 0.7892\n",
            "Epoch 18/50\n",
            "625/625 [==============================] - 9s 14ms/step - loss: 0.0371 - accuracy: 0.9858 - val_loss: 1.3373 - val_accuracy: 0.7936\n",
            "Epoch 19/50\n",
            "625/625 [==============================] - 8s 13ms/step - loss: 0.0332 - accuracy: 0.9882 - val_loss: 1.3628 - val_accuracy: 0.7983\n",
            "Epoch 20/50\n",
            "625/625 [==============================] - 8s 13ms/step - loss: 0.0333 - accuracy: 0.9870 - val_loss: 1.4561 - val_accuracy: 0.8037\n",
            "Epoch 21/50\n",
            "625/625 [==============================] - 8s 13ms/step - loss: 0.0349 - accuracy: 0.9861 - val_loss: 1.5031 - val_accuracy: 0.8009\n",
            "Epoch 22/50\n",
            "625/625 [==============================] - 8s 13ms/step - loss: 0.0279 - accuracy: 0.9892 - val_loss: 1.5503 - val_accuracy: 0.7894\n",
            "Epoch 23/50\n",
            "625/625 [==============================] - 8s 13ms/step - loss: 0.0285 - accuracy: 0.9887 - val_loss: 1.6474 - val_accuracy: 0.7886\n",
            "Epoch 24/50\n",
            "625/625 [==============================] - 8s 13ms/step - loss: 0.0245 - accuracy: 0.9898 - val_loss: 1.7723 - val_accuracy: 0.7939\n",
            "Epoch 25/50\n",
            "625/625 [==============================] - 8s 13ms/step - loss: 0.0317 - accuracy: 0.9876 - val_loss: 1.6601 - val_accuracy: 0.7928\n",
            "Epoch 26/50\n",
            "625/625 [==============================] - 8s 13ms/step - loss: 0.0307 - accuracy: 0.9876 - val_loss: 1.7220 - val_accuracy: 0.7979\n",
            "Epoch 27/50\n",
            "625/625 [==============================] - 8s 13ms/step - loss: 0.0282 - accuracy: 0.9883 - val_loss: 1.7563 - val_accuracy: 0.7964\n",
            "Epoch 28/50\n",
            "625/625 [==============================] - 8s 13ms/step - loss: 0.0249 - accuracy: 0.9897 - val_loss: 1.7340 - val_accuracy: 0.7934\n",
            "Epoch 29/50\n",
            "625/625 [==============================] - 8s 13ms/step - loss: 0.0214 - accuracy: 0.9915 - val_loss: 1.7383 - val_accuracy: 0.7961\n",
            "Epoch 30/50\n",
            "625/625 [==============================] - 8s 13ms/step - loss: 0.0200 - accuracy: 0.9913 - val_loss: 1.9216 - val_accuracy: 0.7953\n",
            "Epoch 31/50\n",
            "625/625 [==============================] - 8s 13ms/step - loss: 0.0262 - accuracy: 0.9894 - val_loss: 1.8254 - val_accuracy: 0.7995\n",
            "Epoch 32/50\n",
            "625/625 [==============================] - 8s 13ms/step - loss: 0.0241 - accuracy: 0.9900 - val_loss: 1.9144 - val_accuracy: 0.7897\n",
            "Epoch 33/50\n",
            "625/625 [==============================] - 8s 13ms/step - loss: 0.0252 - accuracy: 0.9897 - val_loss: 1.9547 - val_accuracy: 0.7961\n",
            "Epoch 34/50\n",
            "625/625 [==============================] - 8s 13ms/step - loss: 0.0245 - accuracy: 0.9893 - val_loss: 2.0116 - val_accuracy: 0.7889\n",
            "Epoch 35/50\n",
            "625/625 [==============================] - 8s 13ms/step - loss: 0.0236 - accuracy: 0.9897 - val_loss: 2.0331 - val_accuracy: 0.7970\n",
            "Epoch 36/50\n",
            "625/625 [==============================] - 8s 13ms/step - loss: 0.0198 - accuracy: 0.9912 - val_loss: 2.0776 - val_accuracy: 0.7894\n",
            "Epoch 37/50\n",
            "625/625 [==============================] - 8s 13ms/step - loss: 0.0190 - accuracy: 0.9915 - val_loss: 2.2692 - val_accuracy: 0.7895\n",
            "Epoch 38/50\n",
            "625/625 [==============================] - 8s 13ms/step - loss: 0.0226 - accuracy: 0.9902 - val_loss: 2.1169 - val_accuracy: 0.7959\n",
            "Epoch 39/50\n",
            "625/625 [==============================] - 8s 13ms/step - loss: 0.0244 - accuracy: 0.9903 - val_loss: 2.1517 - val_accuracy: 0.7901\n",
            "Epoch 40/50\n",
            "625/625 [==============================] - 8s 13ms/step - loss: 0.0263 - accuracy: 0.9894 - val_loss: 2.1606 - val_accuracy: 0.7918\n",
            "Epoch 41/50\n",
            "625/625 [==============================] - 8s 13ms/step - loss: 0.0208 - accuracy: 0.9911 - val_loss: 2.2305 - val_accuracy: 0.7942\n",
            "Epoch 42/50\n",
            "625/625 [==============================] - 8s 13ms/step - loss: 0.0195 - accuracy: 0.9908 - val_loss: 2.2737 - val_accuracy: 0.7964\n",
            "Epoch 43/50\n",
            "625/625 [==============================] - 8s 13ms/step - loss: 0.0205 - accuracy: 0.9918 - val_loss: 2.3799 - val_accuracy: 0.7888\n",
            "Epoch 44/50\n",
            "625/625 [==============================] - 9s 14ms/step - loss: 0.0213 - accuracy: 0.9905 - val_loss: 2.2490 - val_accuracy: 0.7916\n",
            "Epoch 45/50\n",
            "625/625 [==============================] - 8s 13ms/step - loss: 0.0250 - accuracy: 0.9899 - val_loss: 2.2146 - val_accuracy: 0.7943\n",
            "Epoch 46/50\n",
            "625/625 [==============================] - 8s 13ms/step - loss: 0.0200 - accuracy: 0.9912 - val_loss: 2.2978 - val_accuracy: 0.7958\n",
            "Epoch 47/50\n",
            "625/625 [==============================] - 8s 13ms/step - loss: 0.0182 - accuracy: 0.9921 - val_loss: 2.3008 - val_accuracy: 0.7942\n",
            "Epoch 48/50\n",
            "625/625 [==============================] - 8s 13ms/step - loss: 0.0204 - accuracy: 0.9913 - val_loss: 2.2933 - val_accuracy: 0.7904\n",
            "Epoch 49/50\n",
            "625/625 [==============================] - 8s 13ms/step - loss: 0.0200 - accuracy: 0.9912 - val_loss: 2.3432 - val_accuracy: 0.7934\n",
            "Epoch 50/50\n",
            "625/625 [==============================] - 8s 13ms/step - loss: 0.0197 - accuracy: 0.9919 - val_loss: 2.3294 - val_accuracy: 0.7903\n"
          ],
          "name": "stdout"
        }
      ]
    },
    {
      "cell_type": "code",
      "metadata": {
        "id": "RVAuKKLjJzTa",
        "colab_type": "code",
        "colab": {
          "base_uri": "https://localhost:8080/",
          "height": 542
        },
        "outputId": "cf86d92a-3bc3-4977-d0f0-4b3f31d843f9"
      },
      "source": [
        "import matplotlib.pyplot as plt\n",
        "\n",
        "\n",
        "def plot_graphs(history, string):\n",
        "  plt.plot(history.history[string])\n",
        "  plt.plot(history.history['val_'+string])\n",
        "  plt.xlabel(\"Epochs\")\n",
        "  plt.ylabel(string)\n",
        "  plt.legend([string, 'val_'+string])\n",
        "  plt.show()\n",
        "\n",
        "plot_graphs(history, 'accuracy')\n",
        "plot_graphs(history, 'loss')\n",
        "model.save(\"test.h5\")"
      ],
      "execution_count": 3,
      "outputs": [
        {
          "output_type": "display_data",
          "data": {
            "image/png": "[encoded data removed]",
            "text/plain": [
              "<Figure size 432x288 with 1 Axes>"
            ]
          },
          "metadata": {
            "tags": [],
            "needs_background": "light"
          }
        },
        {
          "output_type": "display_data",
          "data": {
            "image/png": "[encoded data removed]",
            "text/plain": [
              "<Figure size 432x288 with 1 Axes>"
            ]
          },
          "metadata": {
            "tags": [],
            "needs_background": "light"
          }
        }
      ]
    },
    {
      "cell_type": "code",
      "metadata": {
        "id": "nlT1-SFnJ4Wx",
        "colab_type": "code",
        "colab": {}
      },
      "source": [
        ""
      ],
      "execution_count": null,
      "outputs": []
    }
  ]
}