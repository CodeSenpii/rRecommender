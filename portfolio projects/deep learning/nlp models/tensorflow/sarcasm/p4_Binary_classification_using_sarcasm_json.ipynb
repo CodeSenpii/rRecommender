{
  "nbformat": 4,
  "nbformat_minor": 0,
  "metadata": {
    "colab": {
      "name": "p4_Binary_classification_using_sarcasm_json.ipynb",
      "provenance": [],
      "collapsed_sections": []
    },
    "kernelspec": {
      "name": "python3",
      "display_name": "Python 3"
    }
  },
  "cells": [
    {
      "cell_type": "markdown",
      "metadata": {
        "id": "KI6Y3-Qay3ko",
        "colab_type": "text"
      },
      "source": [
        "#Hi Welcome to The NoteBook \n",
        "###We will implement tokenization API in keras to encode sentences then we will use embedding to make sense of tokens and classify using embeddings \n",
        "##Data used : sarcasm dataset\n"
      ]
    },
    {
      "cell_type": "markdown",
      "metadata": {
        "id": "6WtWVu0c3Qhe",
        "colab_type": "text"
      },
      "source": [
        "##Download the dataset contains json file\n",
        "json stands for javascript object notation when you communicate with web it is typically either in json or xml format "
      ]
    },
    {
      "cell_type": "code",
      "metadata": {
        "id": "Sb7QUaO_W30p",
        "colab_type": "code",
        "colab": {
          "base_uri": "https://localhost:8080/",
          "height": 204
        },
        "outputId": "df3bb20e-57f3-4cbc-f013-ea7963e4da96"
      },
      "source": [
        "!wget --no-check-certificate \\\n",
        "    https://storage.googleapis.com/laurencemoroney-blog.appspot.com/sarcasm.json \\\n",
        "    -O /tmp/sarcasm.json"
      ],
      "execution_count": 1,
      "outputs": [
        {
          "output_type": "stream",
          "text": [
            "--2020-07-11 00:53:40--  https://storage.googleapis.com/laurencemoroney-blog.appspot.com/sarcasm.json\n",
            "Resolving storage.googleapis.com (storage.googleapis.com)... 173.194.216.128, 108.177.13.128, 172.217.204.128, ...\n",
            "Connecting to storage.googleapis.com (storage.googleapis.com)|173.194.216.128|:443... connected.\n",
            "HTTP request sent, awaiting response... 200 OK\n",
            "Length: 5643545 (5.4M) [application/json]\n",
            "Saving to: ‘/tmp/sarcasm.json’\n",
            "\n",
            "\r/tmp/sarcasm.json     0%[                    ]       0  --.-KB/s               \r/tmp/sarcasm.json   100%[===================>]   5.38M  --.-KB/s    in 0.06s   \n",
            "\n",
            "2020-07-11 00:53:40 (90.0 MB/s) - ‘/tmp/sarcasm.json’ saved [5643545/5643545]\n",
            "\n"
          ],
          "name": "stdout"
        }
      ]
    },
    {
      "cell_type": "markdown",
      "metadata": {
        "id": "2aZhTydwX48L",
        "colab_type": "text"
      },
      "source": [
        "#Import"
      ]
    },
    {
      "cell_type": "code",
      "metadata": {
        "id": "kH6ivNvaX4cl",
        "colab_type": "code",
        "colab": {}
      },
      "source": [
        "import tensorflow as tf\n",
        "\n",
        "from tensorflow.keras.preprocessing.text import Tokenizer\n",
        "from tensorflow.keras.preprocessing.sequence import pad_sequences"
      ],
      "execution_count": 6,
      "outputs": []
    },
    {
      "cell_type": "code",
      "metadata": {
        "id": "FfEQ4hPfXNu9",
        "colab_type": "code",
        "colab": {}
      },
      "source": [
        "def get_data(data_path=\"./\"):\n",
        "  \"\"\" data path is where your data resides it ends with .json extention\"\"\"\n",
        "  \"\"\" for this particular notebook let's only return the sentences\"\"\"\n",
        "  import json          # for working with json data\n",
        "  with open(data_path,\"r\") as f:\n",
        "    datastore = json.load(f)\n",
        "\n",
        "  sentences = []\n",
        "  labels = []\n",
        "  urls = []\n",
        "  for item in datastore:\n",
        "    sentences.append(item[\"headline\"])\n",
        "    labels.append(item[\"is_sarcastic\"])\n",
        "    urls.append(item[\"article_link\"])\n",
        "  return sentences\n",
        "\n",
        "DATA_PATH = \"/tmp/sarcasm.json\"\n",
        "sentences=get_data(DATA_PATH)"
      ],
      "execution_count": 2,
      "outputs": []
    },
    {
      "cell_type": "code",
      "metadata": {
        "id": "DCGr8zniXZj5",
        "colab_type": "code",
        "colab": {}
      },
      "source": [
        "def get_labels(data_path=\"./\"):\n",
        "  \"\"\" data path is where your data resides it ends with .json extention\"\"\"\n",
        "  \"\"\" for this particular notebook let's only return the sentences\"\"\"\n",
        "  import json          # for working with json data\n",
        "  with open(data_path,\"r\") as f:\n",
        "    datastore = json.load(f)\n",
        "\n",
        "  sentences = []\n",
        "  labels = []\n",
        "  urls = []\n",
        "  for item in datastore:\n",
        "    sentences.append(item[\"headline\"])\n",
        "    labels.append(item[\"is_sarcastic\"])\n",
        "    urls.append(item[\"article_link\"])\n",
        "  return labels\n",
        "\n",
        "DATA_PATH = \"/tmp/sarcasm.json\"\n",
        "labels=get_labels(DATA_PATH)"
      ],
      "execution_count": 3,
      "outputs": []
    },
    {
      "cell_type": "markdown",
      "metadata": {
        "id": "2SplW4gOXtko",
        "colab_type": "text"
      },
      "source": [
        "#training hyperparameters"
      ]
    },
    {
      "cell_type": "code",
      "metadata": {
        "id": "IrKeYkCgXkDH",
        "colab_type": "code",
        "colab": {}
      },
      "source": [
        "vocab_size = 10000\n",
        "embedding_dim = 16\n",
        "max_length = 100\n",
        "trunc_type='post'\n",
        "padding_type='post'\n",
        "oov_tok = \"<OOV>\"\n",
        "training_size = 20000"
      ],
      "execution_count": 4,
      "outputs": []
    },
    {
      "cell_type": "code",
      "metadata": {
        "id": "Qq6gi8TjXxJo",
        "colab_type": "code",
        "colab": {}
      },
      "source": [
        "training_sentences = sentences[0:training_size]\n",
        "testing_sentences = sentences[training_size:]\n",
        "training_labels = labels[0:training_size]\n",
        "testing_labels = labels[training_size:]"
      ],
      "execution_count": 5,
      "outputs": []
    },
    {
      "cell_type": "code",
      "metadata": {
        "id": "7OMPk9YLXz3j",
        "colab_type": "code",
        "colab": {}
      },
      "source": [
        "tokenizer = Tokenizer(num_words=vocab_size, oov_token=oov_tok)\n",
        "tokenizer.fit_on_texts(training_sentences)\n",
        "\n",
        "word_index = tokenizer.word_index\n",
        "\n",
        "training_sequences = tokenizer.texts_to_sequences(training_sentences)\n",
        "training_padded = pad_sequences(training_sequences, maxlen=max_length, padding=padding_type, truncating=trunc_type)\n",
        "\n",
        "testing_sequences = tokenizer.texts_to_sequences(testing_sentences)\n",
        "testing_padded = pad_sequences(testing_sequences, maxlen=max_length, padding=padding_type, truncating=trunc_type)"
      ],
      "execution_count": 7,
      "outputs": []
    },
    {
      "cell_type": "code",
      "metadata": {
        "id": "m0MsRAQ_YBdF",
        "colab_type": "code",
        "colab": {}
      },
      "source": [
        "# Need this block to get it to work with TensorFlow 2.x\n",
        "import numpy as np\n",
        "training_padded = np.array(training_padded)\n",
        "training_labels = np.array(training_labels)\n",
        "testing_padded = np.array(testing_padded)\n",
        "testing_labels = np.array(testing_labels)"
      ],
      "execution_count": 8,
      "outputs": []
    },
    {
      "cell_type": "code",
      "metadata": {
        "id": "HJiCqK53YFqM",
        "colab_type": "code",
        "colab": {}
      },
      "source": [
        "model = tf.keras.Sequential([\n",
        "    tf.keras.layers.Embedding(vocab_size, embedding_dim, input_length=max_length),\n",
        "    tf.keras.layers.GlobalAveragePooling1D(),\n",
        "    tf.keras.layers.Dense(24, activation='relu'),\n",
        "    tf.keras.layers.Dense(1, activation='sigmoid')\n",
        "])\n",
        "model.compile(loss='binary_crossentropy',optimizer='adam',metrics=['accuracy'])"
      ],
      "execution_count": 9,
      "outputs": []
    },
    {
      "cell_type": "code",
      "metadata": {
        "id": "pv6ztI7fYIV1",
        "colab_type": "code",
        "colab": {
          "base_uri": "https://localhost:8080/",
          "height": 289
        },
        "outputId": "c2f375b5-72a7-4f06-f55d-45271c97a441"
      },
      "source": [
        "model.summary()\n"
      ],
      "execution_count": 10,
      "outputs": [
        {
          "output_type": "stream",
          "text": [
            "Model: \"sequential\"\n",
            "_________________________________________________________________\n",
            "Layer (type)                 Output Shape              Param #   \n",
            "=================================================================\n",
            "embedding (Embedding)        (None, 100, 16)           160000    \n",
            "_________________________________________________________________\n",
            "global_average_pooling1d (Gl (None, 16)                0         \n",
            "_________________________________________________________________\n",
            "dense (Dense)                (None, 24)                408       \n",
            "_________________________________________________________________\n",
            "dense_1 (Dense)              (None, 1)                 25        \n",
            "=================================================================\n",
            "Total params: 160,433\n",
            "Trainable params: 160,433\n",
            "Non-trainable params: 0\n",
            "_________________________________________________________________\n"
          ],
          "name": "stdout"
        }
      ]
    },
    {
      "cell_type": "code",
      "metadata": {
        "id": "E_eBjyOZYKcD",
        "colab_type": "code",
        "colab": {
          "base_uri": "https://localhost:8080/",
          "height": 1000
        },
        "outputId": "c4f6d803-dfcf-4506-edb7-9f3d782e332e"
      },
      "source": [
        "num_epochs = 30\n",
        "history = model.fit(training_padded, training_labels, epochs=num_epochs, validation_data=(testing_padded, testing_labels), verbose=2)"
      ],
      "execution_count": 11,
      "outputs": [
        {
          "output_type": "stream",
          "text": [
            "Epoch 1/30\n",
            "625/625 - 2s - loss: 0.6665 - accuracy: 0.5871 - val_loss: 0.5742 - val_accuracy: 0.7769\n",
            "Epoch 2/30\n",
            "625/625 - 2s - loss: 0.4226 - accuracy: 0.8341 - val_loss: 0.3797 - val_accuracy: 0.8404\n",
            "Epoch 3/30\n",
            "625/625 - 2s - loss: 0.3069 - accuracy: 0.8769 - val_loss: 0.3523 - val_accuracy: 0.8495\n",
            "Epoch 4/30\n",
            "625/625 - 2s - loss: 0.2555 - accuracy: 0.9010 - val_loss: 0.3401 - val_accuracy: 0.8568\n",
            "Epoch 5/30\n",
            "625/625 - 2s - loss: 0.2198 - accuracy: 0.9148 - val_loss: 0.3419 - val_accuracy: 0.8566\n",
            "Epoch 6/30\n",
            "625/625 - 2s - loss: 0.1938 - accuracy: 0.9251 - val_loss: 0.3519 - val_accuracy: 0.8541\n",
            "Epoch 7/30\n",
            "625/625 - 2s - loss: 0.1723 - accuracy: 0.9356 - val_loss: 0.3756 - val_accuracy: 0.8505\n",
            "Epoch 8/30\n",
            "625/625 - 2s - loss: 0.1534 - accuracy: 0.9441 - val_loss: 0.3792 - val_accuracy: 0.8533\n",
            "Epoch 9/30\n",
            "625/625 - 2s - loss: 0.1389 - accuracy: 0.9503 - val_loss: 0.4020 - val_accuracy: 0.8474\n",
            "Epoch 10/30\n",
            "625/625 - 2s - loss: 0.1265 - accuracy: 0.9548 - val_loss: 0.4388 - val_accuracy: 0.8422\n",
            "Epoch 11/30\n",
            "625/625 - 2s - loss: 0.1123 - accuracy: 0.9617 - val_loss: 0.4375 - val_accuracy: 0.8480\n",
            "Epoch 12/30\n",
            "625/625 - 2s - loss: 0.1036 - accuracy: 0.9642 - val_loss: 0.4948 - val_accuracy: 0.8323\n",
            "Epoch 13/30\n",
            "625/625 - 2s - loss: 0.0955 - accuracy: 0.9670 - val_loss: 0.4971 - val_accuracy: 0.8399\n",
            "Epoch 14/30\n",
            "625/625 - 2s - loss: 0.0874 - accuracy: 0.9704 - val_loss: 0.5136 - val_accuracy: 0.8393\n",
            "Epoch 15/30\n",
            "625/625 - 2s - loss: 0.0787 - accuracy: 0.9742 - val_loss: 0.5455 - val_accuracy: 0.8377\n",
            "Epoch 16/30\n",
            "625/625 - 2s - loss: 0.0729 - accuracy: 0.9765 - val_loss: 0.5692 - val_accuracy: 0.8363\n",
            "Epoch 17/30\n",
            "625/625 - 2s - loss: 0.0667 - accuracy: 0.9776 - val_loss: 0.6097 - val_accuracy: 0.8328\n",
            "Epoch 18/30\n",
            "625/625 - 2s - loss: 0.0613 - accuracy: 0.9806 - val_loss: 0.6323 - val_accuracy: 0.8311\n",
            "Epoch 19/30\n",
            "625/625 - 2s - loss: 0.0565 - accuracy: 0.9825 - val_loss: 0.6680 - val_accuracy: 0.8293\n",
            "Epoch 20/30\n",
            "625/625 - 2s - loss: 0.0520 - accuracy: 0.9847 - val_loss: 0.6958 - val_accuracy: 0.8280\n",
            "Epoch 21/30\n",
            "625/625 - 2s - loss: 0.0479 - accuracy: 0.9856 - val_loss: 0.7288 - val_accuracy: 0.8269\n",
            "Epoch 22/30\n",
            "625/625 - 2s - loss: 0.0435 - accuracy: 0.9862 - val_loss: 0.7699 - val_accuracy: 0.8237\n",
            "Epoch 23/30\n",
            "625/625 - 2s - loss: 0.0395 - accuracy: 0.9889 - val_loss: 0.8086 - val_accuracy: 0.8195\n",
            "Epoch 24/30\n",
            "625/625 - 2s - loss: 0.0377 - accuracy: 0.9884 - val_loss: 0.8597 - val_accuracy: 0.8171\n",
            "Epoch 25/30\n",
            "625/625 - 2s - loss: 0.0358 - accuracy: 0.9887 - val_loss: 0.8727 - val_accuracy: 0.8195\n",
            "Epoch 26/30\n",
            "625/625 - 2s - loss: 0.0316 - accuracy: 0.9910 - val_loss: 0.9088 - val_accuracy: 0.8149\n",
            "Epoch 27/30\n",
            "625/625 - 2s - loss: 0.0302 - accuracy: 0.9913 - val_loss: 0.9418 - val_accuracy: 0.8164\n",
            "Epoch 28/30\n",
            "625/625 - 2s - loss: 0.0278 - accuracy: 0.9915 - val_loss: 0.9884 - val_accuracy: 0.8153\n",
            "Epoch 29/30\n",
            "625/625 - 2s - loss: 0.0264 - accuracy: 0.9919 - val_loss: 1.0419 - val_accuracy: 0.8111\n",
            "Epoch 30/30\n",
            "625/625 - 2s - loss: 0.0233 - accuracy: 0.9934 - val_loss: 1.0657 - val_accuracy: 0.8109\n"
          ],
          "name": "stdout"
        }
      ]
    },
    {
      "cell_type": "markdown",
      "metadata": {
        "id": "flb78s64YQS4",
        "colab_type": "text"
      },
      "source": [
        "#Visualization of training"
      ]
    },
    {
      "cell_type": "code",
      "metadata": {
        "id": "xDRhyyQ1YNI9",
        "colab_type": "code",
        "colab": {
          "base_uri": "https://localhost:8080/",
          "height": 541
        },
        "outputId": "60d6232f-02d8-42c6-dd83-e8d3e972c242"
      },
      "source": [
        "import matplotlib.pyplot as plt\n",
        "\n",
        "\n",
        "def plot_graphs(history, string):\n",
        "  plt.plot(history.history[string])\n",
        "  plt.plot(history.history['val_'+string])\n",
        "  plt.xlabel(\"Epochs\")\n",
        "  plt.ylabel(string)\n",
        "  plt.legend([string, 'val_'+string])\n",
        "  plt.show()\n",
        "  \n",
        "plot_graphs(history, \"accuracy\")\n",
        "plot_graphs(history, \"loss\")"
      ],
      "execution_count": 12,
      "outputs": [
        {
          "output_type": "display_data",
          "data": {
            "image/png": "[encoded data removed]",
            "text/plain": [
              "<Figure size 432x288 with 1 Axes>"
            ]
          },
          "metadata": {
            "tags": [],
            "needs_background": "light"
          }
        },
        {
          "output_type": "display_data",
          "data": {
            "image/png": "[encoded data removed]",
            "text/plain": [
              "<Figure size 432x288 with 1 Axes>"
            ]
          },
          "metadata": {
            "tags": [],
            "needs_background": "light"
          }
        }
      ]
    },
    {
      "cell_type": "markdown",
      "metadata": {
        "id": "jWPuP4dZYXX1",
        "colab_type": "text"
      },
      "source": [
        "#reversing words"
      ]
    },
    {
      "cell_type": "code",
      "metadata": {
        "id": "MwbNfAFvYTYP",
        "colab_type": "code",
        "colab": {
          "base_uri": "https://localhost:8080/",
          "height": 88
        },
        "outputId": "82c0809c-3a64-495b-aaba-72d2657410a7"
      },
      "source": [
        "reverse_word_index = dict([(value, key) for (key, value) in word_index.items()])\n",
        "\n",
        "def decode_sentence(text):\n",
        "    return ' '.join([reverse_word_index.get(i, '?') for i in text])\n",
        "\n",
        "print(decode_sentence(training_padded[0]))\n",
        "print(training_sentences[2])\n",
        "print(labels[2])"
      ],
      "execution_count": 13,
      "outputs": [
        {
          "output_type": "stream",
          "text": [
            "former <OOV> store clerk sues over secret 'black <OOV> for minority shoppers ? ? ? ? ? ? ? ? ? ? ? ? ? ? ? ? ? ? ? ? ? ? ? ? ? ? ? ? ? ? ? ? ? ? ? ? ? ? ? ? ? ? ? ? ? ? ? ? ? ? ? ? ? ? ? ? ? ? ? ? ? ? ? ? ? ? ? ? ? ? ? ? ? ? ? ? ? ? ? ? ? ? ? ? ? ? ? ?\n",
            "mom starting to fear son's web series closest thing she will have to grandchild\n",
            "1\n"
          ],
          "name": "stdout"
        }
      ]
    },
    {
      "cell_type": "markdown",
      "metadata": {
        "id": "c9-pEiK1Ybp-",
        "colab_type": "text"
      },
      "source": [
        "#Model weights"
      ]
    },
    {
      "cell_type": "code",
      "metadata": {
        "id": "2FHlibljYdEw",
        "colab_type": "code",
        "colab": {
          "base_uri": "https://localhost:8080/",
          "height": 34
        },
        "outputId": "f3151168-61a0-46f7-976b-79d56c403bc1"
      },
      "source": [
        "e = model.layers[0]\n",
        "weights = e.get_weights()[0]\n",
        "print(weights.shape) # shape: (vocab_size, embedding_dim)\n"
      ],
      "execution_count": 14,
      "outputs": [
        {
          "output_type": "stream",
          "text": [
            "(10000, 16)\n"
          ],
          "name": "stdout"
        }
      ]
    },
    {
      "cell_type": "markdown",
      "metadata": {
        "id": "2S8vZDjEYhAF",
        "colab_type": "text"
      },
      "source": [
        "#visualizations and files"
      ]
    },
    {
      "cell_type": "code",
      "metadata": {
        "id": "H5CA55eRYgJp",
        "colab_type": "code",
        "colab": {}
      },
      "source": [
        "import io\n",
        "\n",
        "out_v = io.open('vecs.tsv', 'w', encoding='utf-8')\n",
        "out_m = io.open('meta.tsv', 'w', encoding='utf-8')\n",
        "for word_num in range(1, vocab_size):\n",
        "  word = reverse_word_index[word_num]\n",
        "  embeddings = weights[word_num]\n",
        "  out_m.write(word + \"\\n\")\n",
        "  out_v.write('\\t'.join([str(x) for x in embeddings]) + \"\\n\")\n",
        "out_v.close()\n",
        "out_m.close()"
      ],
      "execution_count": 15,
      "outputs": []
    },
    {
      "cell_type": "code",
      "metadata": {
        "id": "s8B6NeWlYodz",
        "colab_type": "code",
        "colab": {
          "base_uri": "https://localhost:8080/",
          "height": 17
        },
        "outputId": "ffef6fdf-1b6f-49c0-847a-061bd1dc0648"
      },
      "source": [
        "try:\n",
        "  from google.colab import files\n",
        "except ImportError:\n",
        "  pass\n",
        "else:\n",
        "  files.download('vecs.tsv')\n",
        "  files.download('meta.tsv')"
      ],
      "execution_count": 16,
      "outputs": [
        {
          "output_type": "display_data",
          "data": {
            "application/javascript": [
              "\n",
              "    async function download(id, filename, size) {\n",
              "      if (!google.colab.kernel.accessAllowed) {\n",
              "        return;\n",
              "      }\n",
              "      const div = document.createElement('div');\n",
              "      const label = document.createElement('label');\n",
              "      label.textContent = `Downloading \"${filename}\": `;\n",
              "      div.appendChild(label);\n",
              "      const progress = document.createElement('progress');\n",
              "      progress.max = size;\n",
              "      div.appendChild(progress);\n",
              "      document.body.appendChild(div);\n",
              "\n",
              "      const buffers = [];\n",
              "      let downloaded = 0;\n",
              "\n",
              "      const channel = await google.colab.kernel.comms.open(id);\n",
              "      // Send a message to notify the kernel that we're ready.\n",
              "      channel.send({})\n",
              "\n",
              "      for await (const message of channel.messages) {\n",
              "        // Send a message to notify the kernel that we're ready.\n",
              "        channel.send({})\n",
              "        if (message.buffers) {\n",
              "          for (const buffer of message.buffers) {\n",
              "            buffers.push(buffer);\n",
              "            downloaded += buffer.byteLength;\n",
              "            progress.value = downloaded;\n",
              "          }\n",
              "        }\n",
              "      }\n",
              "      const blob = new Blob(buffers, {type: 'application/binary'});\n",
              "      const a = document.createElement('a');\n",
              "      a.href = window.URL.createObjectURL(blob);\n",
              "      a.download = filename;\n",
              "      div.appendChild(a);\n",
              "      a.click();\n",
              "      div.remove();\n",
              "    }\n",
              "  "
            ],
            "text/plain": [
              "<IPython.core.display.Javascript object>"
            ]
          },
          "metadata": {
            "tags": []
          }
        },
        {
          "output_type": "display_data",
          "data": {
            "application/javascript": [
              "download(\"download_d1db906e-9183-4990-9ed1-dbe7f53819e0\", \"vecs.tsv\", 1814633)"
            ],
            "text/plain": [
              "<IPython.core.display.Javascript object>"
            ]
          },
          "metadata": {
            "tags": []
          }
        },
        {
          "output_type": "display_data",
          "data": {
            "application/javascript": [
              "\n",
              "    async function download(id, filename, size) {\n",
              "      if (!google.colab.kernel.accessAllowed) {\n",
              "        return;\n",
              "      }\n",
              "      const div = document.createElement('div');\n",
              "      const label = document.createElement('label');\n",
              "      label.textContent = `Downloading \"${filename}\": `;\n",
              "      div.appendChild(label);\n",
              "      const progress = document.createElement('progress');\n",
              "      progress.max = size;\n",
              "      div.appendChild(progress);\n",
              "      document.body.appendChild(div);\n",
              "\n",
              "      const buffers = [];\n",
              "      let downloaded = 0;\n",
              "\n",
              "      const channel = await google.colab.kernel.comms.open(id);\n",
              "      // Send a message to notify the kernel that we're ready.\n",
              "      channel.send({})\n",
              "\n",
              "      for await (const message of channel.messages) {\n",
              "        // Send a message to notify the kernel that we're ready.\n",
              "        channel.send({})\n",
              "        if (message.buffers) {\n",
              "          for (const buffer of message.buffers) {\n",
              "            buffers.push(buffer);\n",
              "            downloaded += buffer.byteLength;\n",
              "            progress.value = downloaded;\n",
              "          }\n",
              "        }\n",
              "      }\n",
              "      const blob = new Blob(buffers, {type: 'application/binary'});\n",
              "      const a = document.createElement('a');\n",
              "      a.href = window.URL.createObjectURL(blob);\n",
              "      a.download = filename;\n",
              "      div.appendChild(a);\n",
              "      a.click();\n",
              "      div.remove();\n",
              "    }\n",
              "  "
            ],
            "text/plain": [
              "<IPython.core.display.Javascript object>"
            ]
          },
          "metadata": {
            "tags": []
          }
        },
        {
          "output_type": "display_data",
          "data": {
            "application/javascript": [
              "download(\"download_f785a698-899d-46e0-ad12-d3957a4941a2\", \"meta.tsv\", 75974)"
            ],
            "text/plain": [
              "<IPython.core.display.Javascript object>"
            ]
          },
          "metadata": {
            "tags": []
          }
        }
      ]
    },
    {
      "cell_type": "code",
      "metadata": {
        "id": "ta1uY3tKYsd1",
        "colab_type": "code",
        "colab": {
          "base_uri": "https://localhost:8080/",
          "height": 51
        },
        "outputId": "8c34dabd-0027-4e00-9090-ff6310a1409e"
      },
      "source": [
        "sentence = [\"granny starting to fear spiders in the garden might be real\", \"game of thrones season finale showing this sunday night\"]\n",
        "sequences = tokenizer.texts_to_sequences(sentence)\n",
        "padded = pad_sequences(sequences, maxlen=max_length, padding=padding_type, truncating=trunc_type)\n",
        "print(model.predict(padded))"
      ],
      "execution_count": 17,
      "outputs": [
        {
          "output_type": "stream",
          "text": [
            "[[9.6968013e-01]\n",
            " [4.9753624e-05]]\n"
          ],
          "name": "stdout"
        }
      ]
    },
    {
      "cell_type": "markdown",
      "metadata": {
        "id": "whuKgM0kSJA8",
        "colab_type": "text"
      },
      "source": [
        "#Visualization:\n",
        "follow [this link](https://projector.tensorflow.org/) and upload vec.tsv and meta.tsv to visualization use t-sne as decomposition method"
      ]
    },
    {
      "cell_type": "markdown",
      "metadata": {
        "id": "Ak557nMI-s0x",
        "colab_type": "text"
      },
      "source": [
        "#Written by : SATYAJIT MAITRA\n",
        "## follow github: https://github.com/MachineLearningWithHuman/\n",
        "## Email for work : ssatyajitmaitra@gmail.com\n",
        "##learn with me on youtube: https://www.youtube.com/channel/UCiWd572-4LeH0IqJ5A7LavA/\n",
        "### please give a star if it helps you "
      ]
    },
    {
      "cell_type": "code",
      "metadata": {
        "id": "9NkKL6m4YyC-",
        "colab_type": "code",
        "colab": {}
      },
      "source": [
        ""
      ],
      "execution_count": null,
      "outputs": []
    }
  ]
}