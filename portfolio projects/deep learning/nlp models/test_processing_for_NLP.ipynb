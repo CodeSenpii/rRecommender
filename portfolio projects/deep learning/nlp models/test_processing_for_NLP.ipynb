{
  "nbformat": 4,
  "nbformat_minor": 0,
  "metadata": {
    "colab": {
      "name": "test processing for NLP",
      "provenance": []
    },
    "kernelspec": {
      "name": "python3",
      "display_name": "Python 3"
    }
  },
  "cells": [
    {
      "cell_type": "markdown",
      "metadata": {
        "id": "CHMfEmHJxycC",
        "colab_type": "text"
      },
      "source": [
        "#Preprocessing\n",
        " we will be exploring how to preprocess tweets for sentiment analysis. We will provide a function for preprocessing tweets during this week's assignment, but it is still good to know what is going on under the hood. By the end of this lecture, you will see how to use the NLTK package to perform a preprocessing pipeline for Twitter datasets."
      ]
    },
    {
      "cell_type": "markdown",
      "metadata": {
        "id": "m9YZMeEYyb6k",
        "colab_type": "text"
      },
      "source": [
        "#Setup\n",
        "You will be doing sentiment analysis on tweets in the first two weeks of this course. To help with that, we will be using the Natural Language Toolkit (NLTK) package, an open-source Python library for natural language processing. It has modules for collecting, handling, and processing Twitter data, and you will be acquainted with them as we move along the course.\n",
        "\n",
        "For this exercise, we will use a Twitter dataset that comes with NLTK. This dataset has been manually annotated and serves to establish baselines for models quickly. Let us import them now as well as a few other libraries we will be using."
      ]
    },
    {
      "cell_type": "code",
      "metadata": {
        "id": "CN_HTASdxyMw",
        "colab_type": "code",
        "colab": {}
      },
      "source": [
        "import nltk\n",
        "from nltk.corpus import twitter_samples\n",
        "import matplotlib.pyplot as plt\n",
        "import random"
      ],
      "execution_count": 2,
      "outputs": []
    },
    {
      "cell_type": "code",
      "metadata": {
        "id": "VnOls63cxgb9",
        "colab_type": "code",
        "colab": {
          "base_uri": "https://localhost:8080/",
          "height": 68
        },
        "outputId": "3c6e5f7f-8c1d-4e5d-9372-e2d9ed346280"
      },
      "source": [
        "nltk.download(\"twitter_samples\")"
      ],
      "execution_count": 3,
      "outputs": [
        {
          "output_type": "stream",
          "text": [
            "[nltk_data] Downloading package twitter_samples to /root/nltk_data...\n",
            "[nltk_data]   Unzipping corpora/twitter_samples.zip.\n"
          ],
          "name": "stdout"
        },
        {
          "output_type": "execute_result",
          "data": {
            "text/plain": [
              "True"
            ]
          },
          "metadata": {
            "tags": []
          },
          "execution_count": 3
        }
      ]
    },
    {
      "cell_type": "code",
      "metadata": {
        "id": "XK5_nYYHzHGt",
        "colab_type": "code",
        "colab": {}
      },
      "source": [
        "# select the set of positive and negative tweets\n",
        "all_positive_tweets = twitter_samples.strings('positive_tweets.json')\n",
        "all_negative_tweets = twitter_samples.strings('negative_tweets.json')"
      ],
      "execution_count": 4,
      "outputs": []
    },
    {
      "cell_type": "code",
      "metadata": {
        "id": "FTwm8zUOzYlg",
        "colab_type": "code",
        "colab": {
          "base_uri": "https://localhost:8080/",
          "height": 102
        },
        "outputId": "554e6270-8200-4df6-d613-621074799614"
      },
      "source": [
        "print('Number of positive tweets: ', len(all_positive_tweets))\n",
        "print('Number of negative tweets: ', len(all_negative_tweets))\n",
        "\n",
        "print('\\nThe type of all_positive_tweets is: ', type(all_positive_tweets))\n",
        "print('The type of a tweet entry is: ', type(all_negative_tweets[0]))"
      ],
      "execution_count": 5,
      "outputs": [
        {
          "output_type": "stream",
          "text": [
            "Number of positive tweets:  5000\n",
            "Number of negative tweets:  5000\n",
            "\n",
            "The type of all_positive_tweets is:  <class 'list'>\n",
            "The type of a tweet entry is:  <class 'str'>\n"
          ],
          "name": "stdout"
        }
      ]
    },
    {
      "cell_type": "markdown",
      "metadata": {
        "id": "F6PWHyozzjYZ",
        "colab_type": "text"
      },
      "source": [
        "#Visualization of the same"
      ]
    },
    {
      "cell_type": "code",
      "metadata": {
        "id": "yYSncHWszeyQ",
        "colab_type": "code",
        "colab": {
          "base_uri": "https://localhost:8080/",
          "height": 303
        },
        "outputId": "6d3d7510-e764-4b51-cd4a-23c9c085baab"
      },
      "source": [
        "fig = plt.figure(figsize=(5,5))\n",
        "\n",
        "labels = \"Positives\" , \"Negatives\"\n",
        "\n",
        "# Sizes for each slide\n",
        "sizes = [len(all_positive_tweets), len(all_negative_tweets)] \n",
        "\n",
        "# Declare pie chart, where the slices will be ordered and plotted counter-clockwise:\n",
        "plt.pie(sizes, labels=labels, autopct='%1.1f%%',\n",
        "        shadow=True, startangle=90)\n",
        "# Equal aspect ratio ensures that pie is drawn as a circle.\n",
        "plt.axis('equal')  \n",
        "\n",
        "# Display the chart\n",
        "plt.show()"
      ],
      "execution_count": 6,
      "outputs": [
        {
          "output_type": "display_data",
          "data": {
            "image/png": "[encoded data removed]",
            "text/plain": [
              "<Figure size 360x360 with 1 Axes>"
            ]
          },
          "metadata": {
            "tags": []
          }
        }
      ]
    },
    {
      "cell_type": "markdown",
      "metadata": {
        "id": "GHVgkR8n0IGH",
        "colab_type": "text"
      },
      "source": [
        "#Looking at raw texts\n",
        "Before anything else, we can print a couple of tweets from the dataset to see how they look. Understanding the data is responsible for 80% of the success or failure in data science projects. We can use this time to observe aspects we'd like to consider when preprocessing our data.\n",
        "\n",
        "Below, you will print one random positive and one random negative tweet. We have added a color mark at the beginning of the string to further distinguish the two. (Warning: This is taken from a public dataset of real tweets and a very small portion has explicit content.)"
      ]
    },
    {
      "cell_type": "code",
      "metadata": {
        "id": "QDBr2huaz82v",
        "colab_type": "code",
        "colab": {
          "base_uri": "https://localhost:8080/",
          "height": 71
        },
        "outputId": "07039ab4-ba5f-4830-d599-b8c8c52207cd"
      },
      "source": [
        "# print positive in greeen\n",
        "print('\\033[92m' + all_positive_tweets[random.randint(0,5000)])\n",
        "\n",
        "# print negative in red\n",
        "print('\\033[91m' + all_negative_tweets[random.randint(0,5000)])"
      ],
      "execution_count": 7,
      "outputs": [
        {
          "output_type": "stream",
          "text": [
            "\u001b[92m@EmilyRPeck Hey Emily, I love your work and I'd like to contribute to HuffPost Business, what's the best way to contact you? :)\n",
            "\u001b[91mUnfortunately today's performances at Pier Approach will not be going ahead due to the weather. :( http://t.co/PidhDm1ga3\n"
          ],
          "name": "stdout"
        }
      ]
    },
    {
      "cell_type": "markdown",
      "metadata": {
        "id": "v0sNB6MA0WYi",
        "colab_type": "text"
      },
      "source": [
        "#Preprocess raw text for Sentiment analysis¶\n",
        "Data preprocessing is one of the critical steps in any machine learning project. It includes cleaning and formatting the data before feeding into a machine learning algorithm. For NLP, the preprocessing steps are comprised of the following tasks:\n",
        "\n",
        "1. Tokenizing the string\n",
        "2. Lowercasing\n",
        "3. Removing stop words and punctuation\n",
        "4. Stemming\n",
        "\n",
        "The videos explained each of these steps and why they are important. Let's see how we can do these to a given tweet. We will choose just one and see how this is transformed by each preprocessing step."
      ]
    },
    {
      "cell_type": "code",
      "metadata": {
        "id": "pzQHyTxt0Lw-",
        "colab_type": "code",
        "colab": {
          "base_uri": "https://localhost:8080/",
          "height": 54
        },
        "outputId": "e8c754e2-1abe-4d16-d923-52b17c232932"
      },
      "source": [
        "# Our selected sample. Complex enough to exemplify each step\n",
        "tweet = all_positive_tweets[2277]\n",
        "print(tweet)"
      ],
      "execution_count": 8,
      "outputs": [
        {
          "output_type": "stream",
          "text": [
            "My beautiful sunflowers on a sunny Friday morning off :) #sunflowers #favourites #happy #Friday off… https://t.co/3tfYom0N1i\n"
          ],
          "name": "stdout"
        }
      ]
    },
    {
      "cell_type": "code",
      "metadata": {
        "id": "nAx_s9aL0gqL",
        "colab_type": "code",
        "colab": {
          "base_uri": "https://localhost:8080/",
          "height": 68
        },
        "outputId": "02c7db36-d277-430b-c4f0-41294f8b83b1"
      },
      "source": [
        "# download the stopwords from NLTK\n",
        "nltk.download('stopwords')"
      ],
      "execution_count": 9,
      "outputs": [
        {
          "output_type": "stream",
          "text": [
            "[nltk_data] Downloading package stopwords to /root/nltk_data...\n",
            "[nltk_data]   Unzipping corpora/stopwords.zip.\n"
          ],
          "name": "stdout"
        },
        {
          "output_type": "execute_result",
          "data": {
            "text/plain": [
              "True"
            ]
          },
          "metadata": {
            "tags": []
          },
          "execution_count": 9
        }
      ]
    },
    {
      "cell_type": "code",
      "metadata": {
        "id": "4iv37L7d0kgL",
        "colab_type": "code",
        "colab": {}
      },
      "source": [
        "import re                                  # library for regular expression operations\n",
        "import string                              # for string operations\n",
        "\n",
        "from nltk.corpus import stopwords          # module for stop words that come with NLTK\n",
        "from nltk.stem import PorterStemmer        # module for stemming\n",
        "from nltk.tokenize import TweetTokenizer   # module for tokenizing strings"
      ],
      "execution_count": 10,
      "outputs": []
    },
    {
      "cell_type": "markdown",
      "metadata": {
        "id": "mBC1Vlob0xRL",
        "colab_type": "text"
      },
      "source": [
        "#Remove hyperlinks, Twitter marks and styles\n",
        "Since we have a Twitter dataset, we'd like to remove some substrings commonly used on the platform like the hashtag, retweet marks, and hyperlinks. We'll use the re library to perform regular expression operations on our tweet. We'll define our search pattern and use the sub() method to remove matches by substituting with an empty character (i.e. '')"
      ]
    },
    {
      "cell_type": "code",
      "metadata": {
        "id": "7_4Ip6MQ0onB",
        "colab_type": "code",
        "colab": {
          "base_uri": "https://localhost:8080/",
          "height": 88
        },
        "outputId": "caedc241-6bcd-4023-d0a9-6813d90f186d"
      },
      "source": [
        "print('\\033[92m' + tweet)\n",
        "print('\\033[94m')\n",
        "\n",
        "# remove old style retweet text \"RT\"\n",
        "tweet2 = re.sub(r'^RT[\\s]+', '', tweet)\n",
        "\n",
        "# remove hyperlinks\n",
        "tweet2 = re.sub(r'https?:\\/\\/.*[\\r\\n]*', '', tweet2)\n",
        "\n",
        "# remove hashtags\n",
        "# only removing the hash # sign from the word\n",
        "tweet2 = re.sub(r'#', '', tweet2)\n",
        "\n",
        "print(tweet2)"
      ],
      "execution_count": 11,
      "outputs": [
        {
          "output_type": "stream",
          "text": [
            "\u001b[92mMy beautiful sunflowers on a sunny Friday morning off :) #sunflowers #favourites #happy #Friday off… https://t.co/3tfYom0N1i\n",
            "\u001b[94m\n",
            "My beautiful sunflowers on a sunny Friday morning off :) sunflowers favourites happy Friday off… \n"
          ],
          "name": "stdout"
        }
      ]
    },
    {
      "cell_type": "markdown",
      "metadata": {
        "id": "P9HRHaqM1IFB",
        "colab_type": "text"
      },
      "source": [
        "#Tokenize the string\n",
        "To tokenize means to split the strings into individual words without blanks or tabs. In this same step, we will also convert each word in the string to lower case. The tokenize module from NLTK allows us to do these easily:"
      ]
    },
    {
      "cell_type": "code",
      "metadata": {
        "id": "tuNnzvwk05qs",
        "colab_type": "code",
        "colab": {
          "base_uri": "https://localhost:8080/",
          "height": 139
        },
        "outputId": "ff5550bc-908d-4b20-f813-ace86bac673a"
      },
      "source": [
        "print()\n",
        "print('\\033[92m' + tweet2)\n",
        "print('\\033[94m')\n",
        "\n",
        "# instantiate tokenizer class\n",
        "tokenizer = TweetTokenizer(preserve_case=False, strip_handles=True,\n",
        "                               reduce_len=True)\n",
        "\n",
        "# tokenize tweets\n",
        "tweet_tokens = tokenizer.tokenize(tweet2)\n",
        "\n",
        "print()\n",
        "print('Tokenized string:')\n",
        "print(tweet_tokens)"
      ],
      "execution_count": 12,
      "outputs": [
        {
          "output_type": "stream",
          "text": [
            "\n",
            "\u001b[92mMy beautiful sunflowers on a sunny Friday morning off :) sunflowers favourites happy Friday off… \n",
            "\u001b[94m\n",
            "\n",
            "Tokenized string:\n",
            "['my', 'beautiful', 'sunflowers', 'on', 'a', 'sunny', 'friday', 'morning', 'off', ':)', 'sunflowers', 'favourites', 'happy', 'friday', 'off', '…']\n"
          ],
          "name": "stdout"
        }
      ]
    },
    {
      "cell_type": "markdown",
      "metadata": {
        "id": "ggxPP_qH1VcU",
        "colab_type": "text"
      },
      "source": [
        "#Remove stop words and punctuations¶\n",
        "The next step is to remove stop words and punctuation. Stop words are words that don't add significant meaning to the text. You'll see the list provided by NLTK when you run the cells below."
      ]
    },
    {
      "cell_type": "code",
      "metadata": {
        "id": "ETnzNVqC1LoK",
        "colab_type": "code",
        "colab": {
          "base_uri": "https://localhost:8080/",
          "height": 156
        },
        "outputId": "0585c007-913d-41db-935a-92b467d24343"
      },
      "source": [
        "#Import the english stop words list from NLTK\n",
        "stopwords_english = stopwords.words('english') \n",
        "\n",
        "print('Stop words\\n')\n",
        "print(stopwords_english)\n",
        "\n",
        "print('\\nPunctuation\\n')\n",
        "print(string.punctuation)"
      ],
      "execution_count": 13,
      "outputs": [
        {
          "output_type": "stream",
          "text": [
            "Stop words\n",
            "\n",
            "['i', 'me', 'my', 'myself', 'we', 'our', 'ours', 'ourselves', 'you', \"you're\", \"you've\", \"you'll\", \"you'd\", 'your', 'yours', 'yourself', 'yourselves', 'he', 'him', 'his', 'himself', 'she', \"she's\", 'her', 'hers', 'herself', 'it', \"it's\", 'its', 'itself', 'they', 'them', 'their', 'theirs', 'themselves', 'what', 'which', 'who', 'whom', 'this', 'that', \"that'll\", 'these', 'those', 'am', 'is', 'are', 'was', 'were', 'be', 'been', 'being', 'have', 'has', 'had', 'having', 'do', 'does', 'did', 'doing', 'a', 'an', 'the', 'and', 'but', 'if', 'or', 'because', 'as', 'until', 'while', 'of', 'at', 'by', 'for', 'with', 'about', 'against', 'between', 'into', 'through', 'during', 'before', 'after', 'above', 'below', 'to', 'from', 'up', 'down', 'in', 'out', 'on', 'off', 'over', 'under', 'again', 'further', 'then', 'once', 'here', 'there', 'when', 'where', 'why', 'how', 'all', 'any', 'both', 'each', 'few', 'more', 'most', 'other', 'some', 'such', 'no', 'nor', 'not', 'only', 'own', 'same', 'so', 'than', 'too', 'very', 's', 't', 'can', 'will', 'just', 'don', \"don't\", 'should', \"should've\", 'now', 'd', 'll', 'm', 'o', 're', 've', 'y', 'ain', 'aren', \"aren't\", 'couldn', \"couldn't\", 'didn', \"didn't\", 'doesn', \"doesn't\", 'hadn', \"hadn't\", 'hasn', \"hasn't\", 'haven', \"haven't\", 'isn', \"isn't\", 'ma', 'mightn', \"mightn't\", 'mustn', \"mustn't\", 'needn', \"needn't\", 'shan', \"shan't\", 'shouldn', \"shouldn't\", 'wasn', \"wasn't\", 'weren', \"weren't\", 'won', \"won't\", 'wouldn', \"wouldn't\"]\n",
            "\n",
            "Punctuation\n",
            "\n",
            "!\"#$%&'()*+,-./:;<=>?@[\\]^_`{|}~\n"
          ],
          "name": "stdout"
        }
      ]
    },
    {
      "cell_type": "code",
      "metadata": {
        "id": "YqIa7YbP1ZfW",
        "colab_type": "code",
        "colab": {
          "base_uri": "https://localhost:8080/",
          "height": 139
        },
        "outputId": "e5f629a6-017d-43d1-a18b-5285e7ab229b"
      },
      "source": [
        "print()\n",
        "print('\\033[92m')\n",
        "print(tweet_tokens)\n",
        "print('\\033[94m')\n",
        "\n",
        "tweets_clean = []\n",
        "\n",
        "for word in tweet_tokens: # Go through every word in your tokens list\n",
        "    if (word not in stopwords_english and  # remove stopwords\n",
        "        word not in string.punctuation):  # remove punctuation\n",
        "        tweets_clean.append(word)\n",
        "\n",
        "print('removed stop words and punctuation:')\n",
        "print(tweets_clean)"
      ],
      "execution_count": 14,
      "outputs": [
        {
          "output_type": "stream",
          "text": [
            "\n",
            "\u001b[92m\n",
            "['my', 'beautiful', 'sunflowers', 'on', 'a', 'sunny', 'friday', 'morning', 'off', ':)', 'sunflowers', 'favourites', 'happy', 'friday', 'off', '…']\n",
            "\u001b[94m\n",
            "removed stop words and punctuation:\n",
            "['beautiful', 'sunflowers', 'sunny', 'friday', 'morning', ':)', 'sunflowers', 'favourites', 'happy', 'friday', '…']\n"
          ],
          "name": "stdout"
        }
      ]
    },
    {
      "cell_type": "markdown",
      "metadata": {
        "id": "TLxeJ2ht1roQ",
        "colab_type": "text"
      },
      "source": [
        "#Stemming\n",
        "Stemming is the process of converting a word to its most general form, or stem. This helps in reducing the size of our vocabulary.\n",
        "\n",
        "Consider the words:\n",
        "\n",
        "*  **learn**\n",
        "*  learning\n",
        "*   learned\n",
        "*   learnt\n",
        "\n",
        "All these words are stemmed from its common root learn. However, in some cases, the stemming process produces words that are not correct spellings of the root word. For example, happi and sunni. That's because it chooses the most common stem for related words. For example, we can look at the set of words that comprises the different forms of happy:\n",
        "\n",
        "*  happy\n",
        "*  happiness\n",
        "*  happier\n",
        "\n",
        "We can see that the prefix happi is more commonly used. We cannot choose happ because it is the stem of unrelated words like happen."
      ]
    },
    {
      "cell_type": "code",
      "metadata": {
        "id": "FgNsNcXo1hOs",
        "colab_type": "code",
        "colab": {
          "base_uri": "https://localhost:8080/",
          "height": 119
        },
        "outputId": "784044af-0a54-443c-e172-916a95617166"
      },
      "source": [
        "print()\n",
        "print('\\033[92m')\n",
        "print(tweets_clean)\n",
        "print('\\033[94m')\n",
        "\n",
        "# Instantiate stemming class\n",
        "stemmer = PorterStemmer() \n",
        "\n",
        "# Create an empty list to store the stems\n",
        "tweets_stem = [] \n",
        "\n",
        "for word in tweets_clean:\n",
        "    stem_word = stemmer.stem(word)  # stemming word\n",
        "    tweets_stem.append(stem_word)  # append to the list\n",
        "\n",
        "print('stemmed words:')\n",
        "print(tweets_stem)"
      ],
      "execution_count": 15,
      "outputs": [
        {
          "output_type": "stream",
          "text": [
            "\n",
            "\u001b[92m\n",
            "['beautiful', 'sunflowers', 'sunny', 'friday', 'morning', ':)', 'sunflowers', 'favourites', 'happy', 'friday', '…']\n",
            "\u001b[94m\n",
            "stemmed words:\n",
            "['beauti', 'sunflow', 'sunni', 'friday', 'morn', ':)', 'sunflow', 'favourit', 'happi', 'friday', '…']\n"
          ],
          "name": "stdout"
        }
      ]
    },
    {
      "cell_type": "code",
      "metadata": {
        "id": "43sMCnQE2FfQ",
        "colab_type": "code",
        "colab": {
          "base_uri": "https://localhost:8080/",
          "height": 139
        },
        "outputId": "cc417d83-27a3-4517-8156-4359d90219b2"
      },
      "source": [
        "from utils import process_tweet # Import the process_tweet function\n",
        "\n",
        "# choose the same tweet\n",
        "tweet = all_positive_tweets[2277]\n",
        "\n",
        "print()\n",
        "print('\\033[92m')\n",
        "print(tweet)\n",
        "print('\\033[94m')\n",
        "\n",
        "# call the imported function\n",
        "tweets_stem = process_tweet(tweet); # Preprocess a given tweet\n",
        "\n",
        "print('preprocessed tweet:')\n",
        "print(tweets_stem) # Print the result"
      ],
      "execution_count": 17,
      "outputs": [
        {
          "output_type": "stream",
          "text": [
            "\n",
            "\u001b[92m\n",
            "My beautiful sunflowers on a sunny Friday morning off :) #sunflowers #favourites #happy #Friday off… https://t.co/3tfYom0N1i\n",
            "\u001b[94m\n",
            "preprocessed tweet:\n",
            "['beauti', 'sunflow', 'sunni', 'friday', 'morn', ':)', 'sunflow', 'favourit', 'happi', 'friday', '…']\n"
          ],
          "name": "stdout"
        }
      ]
    },
    {
      "cell_type": "code",
      "metadata": {
        "id": "WkS0AnnA2MPI",
        "colab_type": "code",
        "colab": {}
      },
      "source": [
        ""
      ],
      "execution_count": null,
      "outputs": []
    }
  ]
}