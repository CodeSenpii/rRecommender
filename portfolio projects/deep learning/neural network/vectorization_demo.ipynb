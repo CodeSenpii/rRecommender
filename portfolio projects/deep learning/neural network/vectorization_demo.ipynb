{
  "nbformat": 4,
  "nbformat_minor": 0,
  "metadata": {
    "colab": {
      "name": "vectorization demo.ipynb",
      "provenance": []
    },
    "kernelspec": {
      "name": "python3",
      "display_name": "Python 3"
    }
  },
  "cells": [
    {
      "cell_type": "code",
      "metadata": {
        "id": "8rtaJDIN_A0G",
        "colab_type": "code",
        "colab": {}
      },
      "source": [
        "import numpy as np"
      ],
      "execution_count": 1,
      "outputs": []
    },
    {
      "cell_type": "code",
      "metadata": {
        "id": "VsZbiq9V_Nr0",
        "colab_type": "code",
        "colab": {
          "base_uri": "https://localhost:8080/",
          "height": 34
        },
        "outputId": "c1bded37-3510-4407-f402-ff889b8d9ac3"
      },
      "source": [
        "a = np.array([1,3,4,5])\n",
        "print(a)"
      ],
      "execution_count": 2,
      "outputs": [
        {
          "output_type": "stream",
          "text": [
            "[1 3 4 5]\n"
          ],
          "name": "stdout"
        }
      ]
    },
    {
      "cell_type": "code",
      "metadata": {
        "id": "QjCphzzL_TSI",
        "colab_type": "code",
        "colab": {
          "base_uri": "https://localhost:8080/",
          "height": 34
        },
        "outputId": "82cb78dd-4e27-4c63-ac3a-c7ddd9738a12"
      },
      "source": [
        "import time\n",
        "a = np.random.rand(10000)\n",
        "b= np.random.rand(10000)\n",
        "tic = time.time()\n",
        "c = np.dot(a,b)\n",
        "toc = time.time()\n",
        "print(\"time taken:\" + str(1000*(toc-tic))+\" ms\")"
      ],
      "execution_count": 5,
      "outputs": [
        {
          "output_type": "stream",
          "text": [
            "time taken:0.12326240539550781 ms\n"
          ],
          "name": "stdout"
        }
      ]
    },
    {
      "cell_type": "code",
      "metadata": {
        "id": "bTu1FuYk_usI",
        "colab_type": "code",
        "colab": {
          "base_uri": "https://localhost:8080/",
          "height": 34
        },
        "outputId": "9542d40a-54b1-43bc-b6f4-6fc26d3faa0c"
      },
      "source": [
        "c = 0\n",
        "tic = time.time()\n",
        "for i in  range(10000):\n",
        "  c == a[i]*b[i]\n",
        "toc = time.time()\n",
        "print(\"for time:\"+str(1000*(toc-tic))+\" ms\")\n"
      ],
      "execution_count": 8,
      "outputs": [
        {
          "output_type": "stream",
          "text": [
            "for time:8.483171463012695 ms\n"
          ],
          "name": "stdout"
        }
      ]
    },
    {
      "cell_type": "markdown",
      "metadata": {
        "id": "-EMarUJqAjKm",
        "colab_type": "text"
      },
      "source": [
        "#You can see time difference"
      ]
    },
    {
      "cell_type": "markdown",
      "metadata": {
        "id": "nTKD3iqzBCqj",
        "colab_type": "text"
      },
      "source": [
        "#Broadcasting"
      ]
    },
    {
      "cell_type": "code",
      "metadata": {
        "id": "Zc2XVOqIBE-m",
        "colab_type": "code",
        "colab": {
          "base_uri": "https://localhost:8080/",
          "height": 51
        },
        "outputId": "6d5e30ef-5940-4b08-f515-c7c997b217f7"
      },
      "source": [
        "import numpy as np\n",
        "\n",
        "A = np.array([[45.0,23.0,34.0],\n",
        "             [23.0,45.0,45.0]])\n",
        "print(A)\n"
      ],
      "execution_count": 10,
      "outputs": [
        {
          "output_type": "stream",
          "text": [
            "[[45. 23. 34.]\n",
            " [23. 45. 45.]]\n"
          ],
          "name": "stdout"
        }
      ]
    },
    {
      "cell_type": "code",
      "metadata": {
        "id": "ASusL7mpBSKc",
        "colab_type": "code",
        "colab": {}
      },
      "source": [
        "cal = A.sum(axis=0)"
      ],
      "execution_count": 11,
      "outputs": []
    },
    {
      "cell_type": "code",
      "metadata": {
        "id": "qH4LWLi-Bc7B",
        "colab_type": "code",
        "colab": {
          "base_uri": "https://localhost:8080/",
          "height": 34
        },
        "outputId": "65e40e2e-9774-44d4-e507-f0a61b9177f7"
      },
      "source": [
        "print(cal)"
      ],
      "execution_count": 12,
      "outputs": [
        {
          "output_type": "stream",
          "text": [
            "[68. 68. 79.]\n"
          ],
          "name": "stdout"
        }
      ]
    },
    {
      "cell_type": "code",
      "metadata": {
        "id": "LBmGd0PNBem1",
        "colab_type": "code",
        "colab": {
          "base_uri": "https://localhost:8080/",
          "height": 51
        },
        "outputId": "01cd88b3-e7d2-471d-b2eb-b93399be44ab"
      },
      "source": [
        "percentage = 100 * A/cal.reshape(1,3)\n",
        "print(percentage)"
      ],
      "execution_count": 13,
      "outputs": [
        {
          "output_type": "stream",
          "text": [
            "[[66.17647059 33.82352941 43.03797468]\n",
            " [33.82352941 66.17647059 56.96202532]]\n"
          ],
          "name": "stdout"
        }
      ]
    },
    {
      "cell_type": "code",
      "metadata": {
        "id": "eWvjux_FBtrA",
        "colab_type": "code",
        "colab": {
          "base_uri": "https://localhost:8080/",
          "height": 34
        },
        "outputId": "1c3b7a37-b56b-449d-ecbb-d845ac273962"
      },
      "source": [
        "cal_col = A.sum(axis=1)\n",
        "print(cal_col)"
      ],
      "execution_count": 14,
      "outputs": [
        {
          "output_type": "stream",
          "text": [
            "[102. 113.]\n"
          ],
          "name": "stdout"
        }
      ]
    },
    {
      "cell_type": "code",
      "metadata": {
        "id": "ij5Xw8HiB3Ka",
        "colab_type": "code",
        "colab": {
          "base_uri": "https://localhost:8080/",
          "height": 51
        },
        "outputId": "27b644d3-4891-4aaa-8c6f-36fffb26484f"
      },
      "source": [
        "percentage = 100 * A/cal_col.reshape(2,1)\n",
        "print(percentage)"
      ],
      "execution_count": 15,
      "outputs": [
        {
          "output_type": "stream",
          "text": [
            "[[44.11764706 22.54901961 33.33333333]\n",
            " [20.3539823  39.82300885 39.82300885]]\n"
          ],
          "name": "stdout"
        }
      ]
    },
    {
      "cell_type": "code",
      "metadata": {
        "id": "_tZr-DAHB9W1",
        "colab_type": "code",
        "colab": {}
      },
      "source": [
        ""
      ],
      "execution_count": null,
      "outputs": []
    }
  ]
}